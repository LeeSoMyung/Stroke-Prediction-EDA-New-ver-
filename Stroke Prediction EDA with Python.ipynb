{
 "cells": [
  {
   "cell_type": "markdown",
   "id": "bf50150f",
   "metadata": {},
   "source": [
    "## <span style=\"color:blue\"> Stroke Prediction Dataset (뇌졸중 예측 데이터셋) </span>\n",
    "#### - 뇌졸중은 전세계적으로 2번째로 위험한 질병이며 약 11%가 사망 \n",
    "#### - 환자의 성별, 나이, 질병, 흡연 여부를 판단하여 뇌졸중을 예측하는 데이터 셋"
   ]
  },
  {
   "cell_type": "markdown",
   "id": "6899fa01",
   "metadata": {},
   "source": [
    "## <span style=\"color:blue\"> Contents </span>\n",
    "#### 1. Load Data\n",
    "#### 2. Exploratory Data Analysis (EDA)\n",
    "#### 3. Data Preprocessing\n",
    "#### 4. ML Model Evaluation\n",
    "#### 5. Conclusion"
   ]
  },
  {
   "cell_type": "markdown",
   "id": "6c7bbd0d",
   "metadata": {},
   "source": [
    "## <span style=\"color:blue\"> Attribute Information </span>\n",
    "#### - 1. id : unique identifier\n",
    "#### - 2. gender(성별) : Male, Female, Other\n",
    "#### - 3. age(나이) \n",
    "#### - 4. hypertension(고혈압) : 0 --> doesn't have, 1 --> has\n",
    "#### - 5. heart_disease(심장병) : 0 --> doesn't have, 1 --> has\n",
    "#### - 6. ever_married(결혼여부) : Yes, No\n",
    "#### - 7. work_type(일) : children, Govt_jov, Never_worked, Private, Self-employed\n",
    "#### - 8. Residence_type(거주지) : Rural, Urban\n",
    "#### - 9. avg_glucose_level(혈당 평균 수치) : average glucose level in blood\n",
    "#### - 10. bmi(체질량지수) : body mass index\n",
    "#### - 11. smoking_status(흡연여부) : formerly smoked, never smoked, smokes, Unknown\n",
    "#### - 12. stroke(뇌졸중) : 0 --> doesn't have, 1 --> has\n",
    "\n",
    "#### * Note: \"Unknown\" in smoking_status means that the information is unavailable for this patient\n",
    "\n",
    "#### * 데이터 출처 : https://www.kaggle.com/datasets/fedesoriano/stroke-prediction-dataset"
   ]
  },
  {
   "cell_type": "markdown",
   "id": "b9b6c535",
   "metadata": {},
   "source": [
    "## <span style =\"color:blue\"> 1. Load Data </span>"
   ]
  },
  {
   "cell_type": "markdown",
   "id": "5f10f8a3",
   "metadata": {},
   "source": [
    "### 라이브러리 불러오기"
   ]
  },
  {
   "cell_type": "code",
   "execution_count": 1,
   "id": "62a68cf0",
   "metadata": {},
   "outputs": [],
   "source": [
    "import pandas as pd\n",
    "import numpy as np\n",
    "import seaborn as sns\n",
    "import matplotlib.pyplot as plt\n",
    "import warnings\n",
    "\n",
    "%matplotlib inline\n",
    "warnings.filterwarnings('ignore')"
   ]
  },
  {
   "cell_type": "markdown",
   "id": "554ed57e",
   "metadata": {},
   "source": [
    "### 파일 불러오기 (healthcare-dataset-stroke-data)"
   ]
  },
  {
   "cell_type": "code",
   "execution_count": 2,
   "id": "6c294842",
   "metadata": {},
   "outputs": [],
   "source": [
    "stroke_data = pd.read_csv(\"healthcare-dataset-stroke-data.csv\")"
   ]
  },
  {
   "cell_type": "code",
   "execution_count": 3,
   "id": "b9b18011",
   "metadata": {},
   "outputs": [
    {
     "name": "stdout",
     "output_type": "stream",
     "text": [
      "<class 'pandas.core.frame.DataFrame'>\n",
      "RangeIndex: 5110 entries, 0 to 5109\n",
      "Data columns (total 12 columns):\n",
      " #   Column             Non-Null Count  Dtype  \n",
      "---  ------             --------------  -----  \n",
      " 0   id                 5110 non-null   int64  \n",
      " 1   gender             5110 non-null   object \n",
      " 2   age                5110 non-null   float64\n",
      " 3   hypertension       5110 non-null   int64  \n",
      " 4   heart_disease      5110 non-null   int64  \n",
      " 5   ever_married       5110 non-null   object \n",
      " 6   work_type          5110 non-null   object \n",
      " 7   Residence_type     5110 non-null   object \n",
      " 8   avg_glucose_level  5110 non-null   float64\n",
      " 9   bmi                4909 non-null   float64\n",
      " 10  smoking_status     5110 non-null   object \n",
      " 11  stroke             5110 non-null   int64  \n",
      "dtypes: float64(3), int64(4), object(5)\n",
      "memory usage: 479.2+ KB\n"
     ]
    }
   ],
   "source": [
    "stroke_data.info()"
   ]
  },
  {
   "cell_type": "code",
   "execution_count": 4,
   "id": "c00e1926",
   "metadata": {},
   "outputs": [
    {
     "data": {
      "text/plain": [
       "0    4861\n",
       "1     249\n",
       "Name: stroke, dtype: int64"
      ]
     },
     "execution_count": 4,
     "metadata": {},
     "output_type": "execute_result"
    }
   ],
   "source": [
    "stroke_data['stroke'].value_counts()"
   ]
  },
  {
   "cell_type": "code",
   "execution_count": 5,
   "id": "13f63fe5",
   "metadata": {},
   "outputs": [
    {
     "data": {
      "text/html": [
       "<div>\n",
       "<style scoped>\n",
       "    .dataframe tbody tr th:only-of-type {\n",
       "        vertical-align: middle;\n",
       "    }\n",
       "\n",
       "    .dataframe tbody tr th {\n",
       "        vertical-align: top;\n",
       "    }\n",
       "\n",
       "    .dataframe thead th {\n",
       "        text-align: right;\n",
       "    }\n",
       "</style>\n",
       "<table border=\"1\" class=\"dataframe\">\n",
       "  <thead>\n",
       "    <tr style=\"text-align: right;\">\n",
       "      <th></th>\n",
       "      <th>id</th>\n",
       "      <th>gender</th>\n",
       "      <th>age</th>\n",
       "      <th>hypertension</th>\n",
       "      <th>heart_disease</th>\n",
       "      <th>ever_married</th>\n",
       "      <th>work_type</th>\n",
       "      <th>Residence_type</th>\n",
       "      <th>avg_glucose_level</th>\n",
       "      <th>bmi</th>\n",
       "      <th>smoking_status</th>\n",
       "      <th>stroke</th>\n",
       "    </tr>\n",
       "  </thead>\n",
       "  <tbody>\n",
       "    <tr>\n",
       "      <th>0</th>\n",
       "      <td>9046</td>\n",
       "      <td>Male</td>\n",
       "      <td>67.0</td>\n",
       "      <td>0</td>\n",
       "      <td>1</td>\n",
       "      <td>Yes</td>\n",
       "      <td>Private</td>\n",
       "      <td>Urban</td>\n",
       "      <td>228.69</td>\n",
       "      <td>36.6</td>\n",
       "      <td>formerly smoked</td>\n",
       "      <td>1</td>\n",
       "    </tr>\n",
       "    <tr>\n",
       "      <th>1</th>\n",
       "      <td>51676</td>\n",
       "      <td>Female</td>\n",
       "      <td>61.0</td>\n",
       "      <td>0</td>\n",
       "      <td>0</td>\n",
       "      <td>Yes</td>\n",
       "      <td>Self-employed</td>\n",
       "      <td>Rural</td>\n",
       "      <td>202.21</td>\n",
       "      <td>NaN</td>\n",
       "      <td>never smoked</td>\n",
       "      <td>1</td>\n",
       "    </tr>\n",
       "    <tr>\n",
       "      <th>2</th>\n",
       "      <td>31112</td>\n",
       "      <td>Male</td>\n",
       "      <td>80.0</td>\n",
       "      <td>0</td>\n",
       "      <td>1</td>\n",
       "      <td>Yes</td>\n",
       "      <td>Private</td>\n",
       "      <td>Rural</td>\n",
       "      <td>105.92</td>\n",
       "      <td>32.5</td>\n",
       "      <td>never smoked</td>\n",
       "      <td>1</td>\n",
       "    </tr>\n",
       "    <tr>\n",
       "      <th>3</th>\n",
       "      <td>60182</td>\n",
       "      <td>Female</td>\n",
       "      <td>49.0</td>\n",
       "      <td>0</td>\n",
       "      <td>0</td>\n",
       "      <td>Yes</td>\n",
       "      <td>Private</td>\n",
       "      <td>Urban</td>\n",
       "      <td>171.23</td>\n",
       "      <td>34.4</td>\n",
       "      <td>smokes</td>\n",
       "      <td>1</td>\n",
       "    </tr>\n",
       "    <tr>\n",
       "      <th>4</th>\n",
       "      <td>1665</td>\n",
       "      <td>Female</td>\n",
       "      <td>79.0</td>\n",
       "      <td>1</td>\n",
       "      <td>0</td>\n",
       "      <td>Yes</td>\n",
       "      <td>Self-employed</td>\n",
       "      <td>Rural</td>\n",
       "      <td>174.12</td>\n",
       "      <td>24.0</td>\n",
       "      <td>never smoked</td>\n",
       "      <td>1</td>\n",
       "    </tr>\n",
       "    <tr>\n",
       "      <th>5</th>\n",
       "      <td>56669</td>\n",
       "      <td>Male</td>\n",
       "      <td>81.0</td>\n",
       "      <td>0</td>\n",
       "      <td>0</td>\n",
       "      <td>Yes</td>\n",
       "      <td>Private</td>\n",
       "      <td>Urban</td>\n",
       "      <td>186.21</td>\n",
       "      <td>29.0</td>\n",
       "      <td>formerly smoked</td>\n",
       "      <td>1</td>\n",
       "    </tr>\n",
       "    <tr>\n",
       "      <th>6</th>\n",
       "      <td>53882</td>\n",
       "      <td>Male</td>\n",
       "      <td>74.0</td>\n",
       "      <td>1</td>\n",
       "      <td>1</td>\n",
       "      <td>Yes</td>\n",
       "      <td>Private</td>\n",
       "      <td>Rural</td>\n",
       "      <td>70.09</td>\n",
       "      <td>27.4</td>\n",
       "      <td>never smoked</td>\n",
       "      <td>1</td>\n",
       "    </tr>\n",
       "    <tr>\n",
       "      <th>7</th>\n",
       "      <td>10434</td>\n",
       "      <td>Female</td>\n",
       "      <td>69.0</td>\n",
       "      <td>0</td>\n",
       "      <td>0</td>\n",
       "      <td>No</td>\n",
       "      <td>Private</td>\n",
       "      <td>Urban</td>\n",
       "      <td>94.39</td>\n",
       "      <td>22.8</td>\n",
       "      <td>never smoked</td>\n",
       "      <td>1</td>\n",
       "    </tr>\n",
       "    <tr>\n",
       "      <th>8</th>\n",
       "      <td>27419</td>\n",
       "      <td>Female</td>\n",
       "      <td>59.0</td>\n",
       "      <td>0</td>\n",
       "      <td>0</td>\n",
       "      <td>Yes</td>\n",
       "      <td>Private</td>\n",
       "      <td>Rural</td>\n",
       "      <td>76.15</td>\n",
       "      <td>NaN</td>\n",
       "      <td>Unknown</td>\n",
       "      <td>1</td>\n",
       "    </tr>\n",
       "    <tr>\n",
       "      <th>9</th>\n",
       "      <td>60491</td>\n",
       "      <td>Female</td>\n",
       "      <td>78.0</td>\n",
       "      <td>0</td>\n",
       "      <td>0</td>\n",
       "      <td>Yes</td>\n",
       "      <td>Private</td>\n",
       "      <td>Urban</td>\n",
       "      <td>58.57</td>\n",
       "      <td>24.2</td>\n",
       "      <td>Unknown</td>\n",
       "      <td>1</td>\n",
       "    </tr>\n",
       "  </tbody>\n",
       "</table>\n",
       "</div>"
      ],
      "text/plain": [
       "      id  gender   age  hypertension  heart_disease ever_married  \\\n",
       "0   9046    Male  67.0             0              1          Yes   \n",
       "1  51676  Female  61.0             0              0          Yes   \n",
       "2  31112    Male  80.0             0              1          Yes   \n",
       "3  60182  Female  49.0             0              0          Yes   \n",
       "4   1665  Female  79.0             1              0          Yes   \n",
       "5  56669    Male  81.0             0              0          Yes   \n",
       "6  53882    Male  74.0             1              1          Yes   \n",
       "7  10434  Female  69.0             0              0           No   \n",
       "8  27419  Female  59.0             0              0          Yes   \n",
       "9  60491  Female  78.0             0              0          Yes   \n",
       "\n",
       "       work_type Residence_type  avg_glucose_level   bmi   smoking_status  \\\n",
       "0        Private          Urban             228.69  36.6  formerly smoked   \n",
       "1  Self-employed          Rural             202.21   NaN     never smoked   \n",
       "2        Private          Rural             105.92  32.5     never smoked   \n",
       "3        Private          Urban             171.23  34.4           smokes   \n",
       "4  Self-employed          Rural             174.12  24.0     never smoked   \n",
       "5        Private          Urban             186.21  29.0  formerly smoked   \n",
       "6        Private          Rural              70.09  27.4     never smoked   \n",
       "7        Private          Urban              94.39  22.8     never smoked   \n",
       "8        Private          Rural              76.15   NaN          Unknown   \n",
       "9        Private          Urban              58.57  24.2          Unknown   \n",
       "\n",
       "   stroke  \n",
       "0       1  \n",
       "1       1  \n",
       "2       1  \n",
       "3       1  \n",
       "4       1  \n",
       "5       1  \n",
       "6       1  \n",
       "7       1  \n",
       "8       1  \n",
       "9       1  "
      ]
     },
     "execution_count": 5,
     "metadata": {},
     "output_type": "execute_result"
    }
   ],
   "source": [
    "stroke_data.head(10)"
   ]
  },
  {
   "cell_type": "code",
   "execution_count": 6,
   "id": "72393d92",
   "metadata": {},
   "outputs": [
    {
     "data": {
      "text/html": [
       "<div>\n",
       "<style scoped>\n",
       "    .dataframe tbody tr th:only-of-type {\n",
       "        vertical-align: middle;\n",
       "    }\n",
       "\n",
       "    .dataframe tbody tr th {\n",
       "        vertical-align: top;\n",
       "    }\n",
       "\n",
       "    .dataframe thead th {\n",
       "        text-align: right;\n",
       "    }\n",
       "</style>\n",
       "<table border=\"1\" class=\"dataframe\">\n",
       "  <thead>\n",
       "    <tr style=\"text-align: right;\">\n",
       "      <th></th>\n",
       "      <th>id</th>\n",
       "      <th>age</th>\n",
       "      <th>hypertension</th>\n",
       "      <th>heart_disease</th>\n",
       "      <th>avg_glucose_level</th>\n",
       "      <th>bmi</th>\n",
       "      <th>stroke</th>\n",
       "    </tr>\n",
       "  </thead>\n",
       "  <tbody>\n",
       "    <tr>\n",
       "      <th>count</th>\n",
       "      <td>5110.000000</td>\n",
       "      <td>5110.000000</td>\n",
       "      <td>5110.000000</td>\n",
       "      <td>5110.000000</td>\n",
       "      <td>5110.000000</td>\n",
       "      <td>4909.000000</td>\n",
       "      <td>5110.000000</td>\n",
       "    </tr>\n",
       "    <tr>\n",
       "      <th>mean</th>\n",
       "      <td>36517.829354</td>\n",
       "      <td>43.226614</td>\n",
       "      <td>0.097456</td>\n",
       "      <td>0.054012</td>\n",
       "      <td>106.147677</td>\n",
       "      <td>28.893237</td>\n",
       "      <td>0.048728</td>\n",
       "    </tr>\n",
       "    <tr>\n",
       "      <th>std</th>\n",
       "      <td>21161.721625</td>\n",
       "      <td>22.612647</td>\n",
       "      <td>0.296607</td>\n",
       "      <td>0.226063</td>\n",
       "      <td>45.283560</td>\n",
       "      <td>7.854067</td>\n",
       "      <td>0.215320</td>\n",
       "    </tr>\n",
       "    <tr>\n",
       "      <th>min</th>\n",
       "      <td>67.000000</td>\n",
       "      <td>0.080000</td>\n",
       "      <td>0.000000</td>\n",
       "      <td>0.000000</td>\n",
       "      <td>55.120000</td>\n",
       "      <td>10.300000</td>\n",
       "      <td>0.000000</td>\n",
       "    </tr>\n",
       "    <tr>\n",
       "      <th>25%</th>\n",
       "      <td>17741.250000</td>\n",
       "      <td>25.000000</td>\n",
       "      <td>0.000000</td>\n",
       "      <td>0.000000</td>\n",
       "      <td>77.245000</td>\n",
       "      <td>23.500000</td>\n",
       "      <td>0.000000</td>\n",
       "    </tr>\n",
       "    <tr>\n",
       "      <th>50%</th>\n",
       "      <td>36932.000000</td>\n",
       "      <td>45.000000</td>\n",
       "      <td>0.000000</td>\n",
       "      <td>0.000000</td>\n",
       "      <td>91.885000</td>\n",
       "      <td>28.100000</td>\n",
       "      <td>0.000000</td>\n",
       "    </tr>\n",
       "    <tr>\n",
       "      <th>75%</th>\n",
       "      <td>54682.000000</td>\n",
       "      <td>61.000000</td>\n",
       "      <td>0.000000</td>\n",
       "      <td>0.000000</td>\n",
       "      <td>114.090000</td>\n",
       "      <td>33.100000</td>\n",
       "      <td>0.000000</td>\n",
       "    </tr>\n",
       "    <tr>\n",
       "      <th>max</th>\n",
       "      <td>72940.000000</td>\n",
       "      <td>82.000000</td>\n",
       "      <td>1.000000</td>\n",
       "      <td>1.000000</td>\n",
       "      <td>271.740000</td>\n",
       "      <td>97.600000</td>\n",
       "      <td>1.000000</td>\n",
       "    </tr>\n",
       "  </tbody>\n",
       "</table>\n",
       "</div>"
      ],
      "text/plain": [
       "                 id          age  hypertension  heart_disease  \\\n",
       "count   5110.000000  5110.000000   5110.000000    5110.000000   \n",
       "mean   36517.829354    43.226614      0.097456       0.054012   \n",
       "std    21161.721625    22.612647      0.296607       0.226063   \n",
       "min       67.000000     0.080000      0.000000       0.000000   \n",
       "25%    17741.250000    25.000000      0.000000       0.000000   \n",
       "50%    36932.000000    45.000000      0.000000       0.000000   \n",
       "75%    54682.000000    61.000000      0.000000       0.000000   \n",
       "max    72940.000000    82.000000      1.000000       1.000000   \n",
       "\n",
       "       avg_glucose_level          bmi       stroke  \n",
       "count        5110.000000  4909.000000  5110.000000  \n",
       "mean          106.147677    28.893237     0.048728  \n",
       "std            45.283560     7.854067     0.215320  \n",
       "min            55.120000    10.300000     0.000000  \n",
       "25%            77.245000    23.500000     0.000000  \n",
       "50%            91.885000    28.100000     0.000000  \n",
       "75%           114.090000    33.100000     0.000000  \n",
       "max           271.740000    97.600000     1.000000  "
      ]
     },
     "execution_count": 6,
     "metadata": {},
     "output_type": "execute_result"
    }
   ],
   "source": [
    "stroke_data.describe()"
   ]
  },
  {
   "cell_type": "markdown",
   "id": "76b7c5d6",
   "metadata": {},
   "source": [
    "## <span style =\"color:blue\"> 2. Exploratory Data Analysis (EDA) </span>"
   ]
  },
  {
   "cell_type": "markdown",
   "id": "2f4eae2a",
   "metadata": {},
   "source": [
    "### 변수간 상관계수 분석"
   ]
  },
  {
   "cell_type": "markdown",
   "id": "85c23dae",
   "metadata": {},
   "source": [
    "#### <span style = \"color:red\"> 상관관계 분석 주의점 </span>\n",
    "##### 1) 숫자로 표현 가능한 연속형 데이터만 상관관계 분석 가능\n",
    "##### 2) -1 ~ 1 사이의 값을 가짐\n",
    "##### 3) 인과관계를 의미하지 X\n",
    "##### - x와 y가 유사한 경향으로 증가 or x/y가 증가할 때 y/x가 감소하는 경향 정도만 설명 가능\n",
    "##### 출처 https://m.blog.naver.com/PostView.naver?isHttpsRedirect=true&blogId=kiddwannabe&logNo=221205309816"
   ]
  },
  {
   "cell_type": "code",
   "execution_count": 7,
   "id": "152f21e5",
   "metadata": {},
   "outputs": [
    {
     "data": {
      "text/html": [
       "<div>\n",
       "<style scoped>\n",
       "    .dataframe tbody tr th:only-of-type {\n",
       "        vertical-align: middle;\n",
       "    }\n",
       "\n",
       "    .dataframe tbody tr th {\n",
       "        vertical-align: top;\n",
       "    }\n",
       "\n",
       "    .dataframe thead th {\n",
       "        text-align: right;\n",
       "    }\n",
       "</style>\n",
       "<table border=\"1\" class=\"dataframe\">\n",
       "  <thead>\n",
       "    <tr style=\"text-align: right;\">\n",
       "      <th></th>\n",
       "      <th>id</th>\n",
       "      <th>age</th>\n",
       "      <th>hypertension</th>\n",
       "      <th>heart_disease</th>\n",
       "      <th>avg_glucose_level</th>\n",
       "      <th>bmi</th>\n",
       "      <th>stroke</th>\n",
       "    </tr>\n",
       "  </thead>\n",
       "  <tbody>\n",
       "    <tr>\n",
       "      <th>id</th>\n",
       "      <td>1.000000</td>\n",
       "      <td>0.003538</td>\n",
       "      <td>0.003550</td>\n",
       "      <td>-0.001296</td>\n",
       "      <td>0.001092</td>\n",
       "      <td>0.003084</td>\n",
       "      <td>0.006388</td>\n",
       "    </tr>\n",
       "    <tr>\n",
       "      <th>age</th>\n",
       "      <td>0.003538</td>\n",
       "      <td>1.000000</td>\n",
       "      <td>0.276398</td>\n",
       "      <td>0.263796</td>\n",
       "      <td>0.238171</td>\n",
       "      <td>0.333398</td>\n",
       "      <td>0.245257</td>\n",
       "    </tr>\n",
       "    <tr>\n",
       "      <th>hypertension</th>\n",
       "      <td>0.003550</td>\n",
       "      <td>0.276398</td>\n",
       "      <td>1.000000</td>\n",
       "      <td>0.108306</td>\n",
       "      <td>0.174474</td>\n",
       "      <td>0.167811</td>\n",
       "      <td>0.127904</td>\n",
       "    </tr>\n",
       "    <tr>\n",
       "      <th>heart_disease</th>\n",
       "      <td>-0.001296</td>\n",
       "      <td>0.263796</td>\n",
       "      <td>0.108306</td>\n",
       "      <td>1.000000</td>\n",
       "      <td>0.161857</td>\n",
       "      <td>0.041357</td>\n",
       "      <td>0.134914</td>\n",
       "    </tr>\n",
       "    <tr>\n",
       "      <th>avg_glucose_level</th>\n",
       "      <td>0.001092</td>\n",
       "      <td>0.238171</td>\n",
       "      <td>0.174474</td>\n",
       "      <td>0.161857</td>\n",
       "      <td>1.000000</td>\n",
       "      <td>0.175502</td>\n",
       "      <td>0.131945</td>\n",
       "    </tr>\n",
       "    <tr>\n",
       "      <th>bmi</th>\n",
       "      <td>0.003084</td>\n",
       "      <td>0.333398</td>\n",
       "      <td>0.167811</td>\n",
       "      <td>0.041357</td>\n",
       "      <td>0.175502</td>\n",
       "      <td>1.000000</td>\n",
       "      <td>0.042374</td>\n",
       "    </tr>\n",
       "    <tr>\n",
       "      <th>stroke</th>\n",
       "      <td>0.006388</td>\n",
       "      <td>0.245257</td>\n",
       "      <td>0.127904</td>\n",
       "      <td>0.134914</td>\n",
       "      <td>0.131945</td>\n",
       "      <td>0.042374</td>\n",
       "      <td>1.000000</td>\n",
       "    </tr>\n",
       "  </tbody>\n",
       "</table>\n",
       "</div>"
      ],
      "text/plain": [
       "                         id       age  hypertension  heart_disease  \\\n",
       "id                 1.000000  0.003538      0.003550      -0.001296   \n",
       "age                0.003538  1.000000      0.276398       0.263796   \n",
       "hypertension       0.003550  0.276398      1.000000       0.108306   \n",
       "heart_disease     -0.001296  0.263796      0.108306       1.000000   \n",
       "avg_glucose_level  0.001092  0.238171      0.174474       0.161857   \n",
       "bmi                0.003084  0.333398      0.167811       0.041357   \n",
       "stroke             0.006388  0.245257      0.127904       0.134914   \n",
       "\n",
       "                   avg_glucose_level       bmi    stroke  \n",
       "id                          0.001092  0.003084  0.006388  \n",
       "age                         0.238171  0.333398  0.245257  \n",
       "hypertension                0.174474  0.167811  0.127904  \n",
       "heart_disease               0.161857  0.041357  0.134914  \n",
       "avg_glucose_level           1.000000  0.175502  0.131945  \n",
       "bmi                         0.175502  1.000000  0.042374  \n",
       "stroke                      0.131945  0.042374  1.000000  "
      ]
     },
     "execution_count": 7,
     "metadata": {},
     "output_type": "execute_result"
    }
   ],
   "source": [
    "corr_data= stroke_data.corr()\n",
    "corr_data"
   ]
  },
  {
   "cell_type": "code",
   "execution_count": 8,
   "id": "27f538c7",
   "metadata": {},
   "outputs": [
    {
     "data": {
      "text/plain": [
       "<AxesSubplot:title={'center':'Correlation of Features'}>"
      ]
     },
     "execution_count": 8,
     "metadata": {},
     "output_type": "execute_result"
    },
    {
     "data": {
      "image/png": "[encoded data removed]",
      "text/plain": [
       "<Figure size 720x360 with 2 Axes>"
      ]
     },
     "metadata": {
      "needs_background": "light"
     },
     "output_type": "display_data"
    }
   ],
   "source": [
    "mask = np.zeros_like(corr_data, dtype=np.bool)\n",
    "mask[np.triu_indices_from(mask)] = True\n",
    "\n",
    "plt.rcParams['figure.figsize']=(10,5)\n",
    "plt.title(\"Correlation of Features\", fontsize=18, fontweight='bold')\n",
    "\n",
    "sns.heatmap(corr_data, annot=True, cmap='Purples', mask=mask)"
   ]
  },
  {
   "cell_type": "markdown",
   "id": "c4b125a9",
   "metadata": {},
   "source": [
    "### Outlier (이상치) 탐지"
   ]
  },
  {
   "cell_type": "markdown",
   "id": "a99cf94c",
   "metadata": {},
   "source": [
    "#### <span style = \"color:red\"> Outlier(이상치)란? </span>\n",
    "##### - 이상(문제)이 있는 데이터\n",
    "##### - 이상치 데이터는 제거해줘야 올바른 학습 결과를 도출해낼 수 있음\n",
    "\n",
    "#### <span style = \"color:red\"> Outlier data 탐지 방법 </span>\n",
    "##### - IQR (Inter Qunatile Range)\n",
    "##### - 사분위 값의 편차를 이용하는 방법 --> boxplot을 사용해서 확인 가능!\n",
    "##### - 사분위는 데이터를 값이 높은 순으로 정렬하고, 1/4씩 나눈것을 의미\n",
    "##### - Q1 : 25%, Q2 : 50%, Q3 : 75%, Q4 : 100%\n",
    "\n",
    "##### - IQR = Q1 ~ Q3 사이의 지점을 의미하며, Q3-Q1 값을 의미\n",
    "##### - IQR을 이용해서 이상치를 탐지하는 방법 : IQR * 1.5\n",
    "##### - 최대값 : IQR * 1.5 + Q3\n",
    "##### - 최소값 : Q1 - IQR * 1.5\n",
    "##### 즉, 최대값보다 크거나 최소값보다 작은 값을 이상치 데이터라고 함\n",
    "##### 출처 https://lsjsj92.tistory.com/556"
   ]
  },
  {
   "cell_type": "code",
   "execution_count": 9,
   "id": "63af8d38",
   "metadata": {},
   "outputs": [
    {
     "data": {
      "text/plain": [
       "<AxesSubplot:xlabel='age'>"
      ]
     },
     "execution_count": 9,
     "metadata": {},
     "output_type": "execute_result"
    },
    {
     "data": {
      "image/png": "[encoded data removed]",
      "text/plain": [
       "<Figure size 1440x432 with 5 Axes>"
      ]
     },
     "metadata": {
      "needs_background": "light"
     },
     "output_type": "display_data"
    }
   ],
   "source": [
    "fig, ax = plt.subplots(1,5, figsize=(20,6))\n",
    "\n",
    "sns.boxplot(x = stroke_data['avg_glucose_level'], ax=ax[0])\n",
    "sns.boxplot(x = stroke_data['bmi'], ax=ax[1])\n",
    "sns.boxplot(x = stroke_data['hypertension'], ax=ax[2])\n",
    "sns.boxplot(x = stroke_data['heart_disease'], ax=ax[3])\n",
    "sns.boxplot(x = stroke_data['age'], ax=ax[4])"
   ]
  },
  {
   "cell_type": "markdown",
   "id": "40fb9826",
   "metadata": {},
   "source": [
    "### Outlier (이상치) 처리"
   ]
  },
  {
   "cell_type": "markdown",
   "id": "7b08c9ac",
   "metadata": {},
   "source": [
    "#### <span style=\"color: green\"> Outlier 데이터에 log 함수 취하기 </span>\n",
    "##### - 정규성을 높이고 정확한 값을 얻기 위함\n",
    "##### - 데이터 간 편차를 줄여서 왜도와 첨도를 줄일 수 있기 때문에 정규성이 높아짐\n",
    "##### - log 함수 : 큰 수를 작게 만들고 복잡한 계산을 간편하게 해주는 역할\n",
    "##### * 왜도 : 데이터가 한쪽으로 치우친 현상\n",
    "##### * 첨도 : 분포가 얼마나 뾰족한지를 나타내는 현상\n"
   ]
  },
  {
   "cell_type": "code",
   "execution_count": 10,
   "id": "5cdb9cf0",
   "metadata": {},
   "outputs": [],
   "source": [
    "stroke_data['avg_glucose_level'] = np.log(stroke_data['avg_glucose_level'])\n",
    "stroke_data['bmi'] = np.log(stroke_data['bmi'])"
   ]
  },
  {
   "cell_type": "code",
   "execution_count": 11,
   "id": "caff24b2",
   "metadata": {},
   "outputs": [
    {
     "data": {
      "text/html": [
       "<div>\n",
       "<style scoped>\n",
       "    .dataframe tbody tr th:only-of-type {\n",
       "        vertical-align: middle;\n",
       "    }\n",
       "\n",
       "    .dataframe tbody tr th {\n",
       "        vertical-align: top;\n",
       "    }\n",
       "\n",
       "    .dataframe thead th {\n",
       "        text-align: right;\n",
       "    }\n",
       "</style>\n",
       "<table border=\"1\" class=\"dataframe\">\n",
       "  <thead>\n",
       "    <tr style=\"text-align: right;\">\n",
       "      <th></th>\n",
       "      <th>id</th>\n",
       "      <th>age</th>\n",
       "      <th>hypertension</th>\n",
       "      <th>heart_disease</th>\n",
       "      <th>avg_glucose_level</th>\n",
       "      <th>bmi</th>\n",
       "      <th>stroke</th>\n",
       "    </tr>\n",
       "  </thead>\n",
       "  <tbody>\n",
       "    <tr>\n",
       "      <th>count</th>\n",
       "      <td>5110.000000</td>\n",
       "      <td>5110.000000</td>\n",
       "      <td>5110.000000</td>\n",
       "      <td>5110.000000</td>\n",
       "      <td>5110.000000</td>\n",
       "      <td>4909.000000</td>\n",
       "      <td>5110.000000</td>\n",
       "    </tr>\n",
       "    <tr>\n",
       "      <th>mean</th>\n",
       "      <td>36517.829354</td>\n",
       "      <td>43.226614</td>\n",
       "      <td>0.097456</td>\n",
       "      <td>0.054012</td>\n",
       "      <td>4.592465</td>\n",
       "      <td>3.328423</td>\n",
       "      <td>0.048728</td>\n",
       "    </tr>\n",
       "    <tr>\n",
       "      <th>std</th>\n",
       "      <td>21161.721625</td>\n",
       "      <td>22.612647</td>\n",
       "      <td>0.296607</td>\n",
       "      <td>0.226063</td>\n",
       "      <td>0.361985</td>\n",
       "      <td>0.265064</td>\n",
       "      <td>0.215320</td>\n",
       "    </tr>\n",
       "    <tr>\n",
       "      <th>min</th>\n",
       "      <td>67.000000</td>\n",
       "      <td>0.080000</td>\n",
       "      <td>0.000000</td>\n",
       "      <td>0.000000</td>\n",
       "      <td>4.009513</td>\n",
       "      <td>2.332144</td>\n",
       "      <td>0.000000</td>\n",
       "    </tr>\n",
       "    <tr>\n",
       "      <th>25%</th>\n",
       "      <td>17741.250000</td>\n",
       "      <td>25.000000</td>\n",
       "      <td>0.000000</td>\n",
       "      <td>0.000000</td>\n",
       "      <td>4.346982</td>\n",
       "      <td>3.157000</td>\n",
       "      <td>0.000000</td>\n",
       "    </tr>\n",
       "    <tr>\n",
       "      <th>50%</th>\n",
       "      <td>36932.000000</td>\n",
       "      <td>45.000000</td>\n",
       "      <td>0.000000</td>\n",
       "      <td>0.000000</td>\n",
       "      <td>4.520538</td>\n",
       "      <td>3.335770</td>\n",
       "      <td>0.000000</td>\n",
       "    </tr>\n",
       "    <tr>\n",
       "      <th>75%</th>\n",
       "      <td>54682.000000</td>\n",
       "      <td>61.000000</td>\n",
       "      <td>0.000000</td>\n",
       "      <td>0.000000</td>\n",
       "      <td>4.736988</td>\n",
       "      <td>3.499533</td>\n",
       "      <td>0.000000</td>\n",
       "    </tr>\n",
       "    <tr>\n",
       "      <th>max</th>\n",
       "      <td>72940.000000</td>\n",
       "      <td>82.000000</td>\n",
       "      <td>1.000000</td>\n",
       "      <td>1.000000</td>\n",
       "      <td>5.604846</td>\n",
       "      <td>4.580877</td>\n",
       "      <td>1.000000</td>\n",
       "    </tr>\n",
       "  </tbody>\n",
       "</table>\n",
       "</div>"
      ],
      "text/plain": [
       "                 id          age  hypertension  heart_disease  \\\n",
       "count   5110.000000  5110.000000   5110.000000    5110.000000   \n",
       "mean   36517.829354    43.226614      0.097456       0.054012   \n",
       "std    21161.721625    22.612647      0.296607       0.226063   \n",
       "min       67.000000     0.080000      0.000000       0.000000   \n",
       "25%    17741.250000    25.000000      0.000000       0.000000   \n",
       "50%    36932.000000    45.000000      0.000000       0.000000   \n",
       "75%    54682.000000    61.000000      0.000000       0.000000   \n",
       "max    72940.000000    82.000000      1.000000       1.000000   \n",
       "\n",
       "       avg_glucose_level          bmi       stroke  \n",
       "count        5110.000000  4909.000000  5110.000000  \n",
       "mean            4.592465     3.328423     0.048728  \n",
       "std             0.361985     0.265064     0.215320  \n",
       "min             4.009513     2.332144     0.000000  \n",
       "25%             4.346982     3.157000     0.000000  \n",
       "50%             4.520538     3.335770     0.000000  \n",
       "75%             4.736988     3.499533     0.000000  \n",
       "max             5.604846     4.580877     1.000000  "
      ]
     },
     "execution_count": 11,
     "metadata": {},
     "output_type": "execute_result"
    }
   ],
   "source": [
    "stroke_data.describe()"
   ]
  },
  {
   "cell_type": "code",
   "execution_count": 12,
   "id": "3850f8f4",
   "metadata": {},
   "outputs": [],
   "source": [
    "# 참고사항\n",
    "\n",
    "# 이상치 제거하는 함수\n",
    "# 데이터 유실 등의 이유로 권장하는 방법은 X\n",
    "\n",
    "# def get_rid_of_outliers(df=None, col=None):\n",
    "#     q_25 = np.percentile(df[col].values, 25)\n",
    "#     q_75 = np.percentile(df[col].values, 75)\n",
    "    \n",
    "#     IQR = q75 - q25\n",
    "#     IQR_weight = IQR * 1.5\n",
    "    \n",
    "#     max = IQR_weight + q75\n",
    "#     min = q_25 - IQR_weight\n",
    "    \n",
    "#     outlier_idx = df[col][(df[col] < min) | (df[col] > max)].index\n",
    "    \n",
    "#     return outlier_idx\n",
    "\n",
    "# outlier_idx = get_rid_of_outliers(df=df, col='')\n",
    "# df.drop(outlier_idx, axis=0, inplace=True)"
   ]
  },
  {
   "cell_type": "markdown",
   "id": "3a56c71d",
   "metadata": {},
   "source": [
    "### 성별에 따른 뇌졸중 발생 분석"
   ]
  },
  {
   "cell_type": "code",
   "execution_count": 13,
   "id": "0672791e",
   "metadata": {},
   "outputs": [],
   "source": [
    "yes_stroke_data = stroke_data[stroke_data['stroke']==1]"
   ]
  },
  {
   "cell_type": "code",
   "execution_count": 14,
   "id": "315c02ee",
   "metadata": {},
   "outputs": [
    {
     "data": {
      "text/html": [
       "<div>\n",
       "<style scoped>\n",
       "    .dataframe tbody tr th:only-of-type {\n",
       "        vertical-align: middle;\n",
       "    }\n",
       "\n",
       "    .dataframe tbody tr th {\n",
       "        vertical-align: top;\n",
       "    }\n",
       "\n",
       "    .dataframe thead th {\n",
       "        text-align: right;\n",
       "    }\n",
       "</style>\n",
       "<table border=\"1\" class=\"dataframe\">\n",
       "  <thead>\n",
       "    <tr style=\"text-align: right;\">\n",
       "      <th></th>\n",
       "      <th>id</th>\n",
       "      <th>gender</th>\n",
       "      <th>age</th>\n",
       "      <th>hypertension</th>\n",
       "      <th>heart_disease</th>\n",
       "      <th>ever_married</th>\n",
       "      <th>work_type</th>\n",
       "      <th>Residence_type</th>\n",
       "      <th>avg_glucose_level</th>\n",
       "      <th>bmi</th>\n",
       "      <th>smoking_status</th>\n",
       "      <th>stroke</th>\n",
       "    </tr>\n",
       "  </thead>\n",
       "  <tbody>\n",
       "    <tr>\n",
       "      <th>0</th>\n",
       "      <td>9046</td>\n",
       "      <td>Male</td>\n",
       "      <td>67.0</td>\n",
       "      <td>0</td>\n",
       "      <td>1</td>\n",
       "      <td>Yes</td>\n",
       "      <td>Private</td>\n",
       "      <td>Urban</td>\n",
       "      <td>5.432367</td>\n",
       "      <td>3.600048</td>\n",
       "      <td>formerly smoked</td>\n",
       "      <td>1</td>\n",
       "    </tr>\n",
       "    <tr>\n",
       "      <th>1</th>\n",
       "      <td>51676</td>\n",
       "      <td>Female</td>\n",
       "      <td>61.0</td>\n",
       "      <td>0</td>\n",
       "      <td>0</td>\n",
       "      <td>Yes</td>\n",
       "      <td>Self-employed</td>\n",
       "      <td>Rural</td>\n",
       "      <td>5.309307</td>\n",
       "      <td>NaN</td>\n",
       "      <td>never smoked</td>\n",
       "      <td>1</td>\n",
       "    </tr>\n",
       "    <tr>\n",
       "      <th>2</th>\n",
       "      <td>31112</td>\n",
       "      <td>Male</td>\n",
       "      <td>80.0</td>\n",
       "      <td>0</td>\n",
       "      <td>1</td>\n",
       "      <td>Yes</td>\n",
       "      <td>Private</td>\n",
       "      <td>Rural</td>\n",
       "      <td>4.662684</td>\n",
       "      <td>3.481240</td>\n",
       "      <td>never smoked</td>\n",
       "      <td>1</td>\n",
       "    </tr>\n",
       "    <tr>\n",
       "      <th>3</th>\n",
       "      <td>60182</td>\n",
       "      <td>Female</td>\n",
       "      <td>49.0</td>\n",
       "      <td>0</td>\n",
       "      <td>0</td>\n",
       "      <td>Yes</td>\n",
       "      <td>Private</td>\n",
       "      <td>Urban</td>\n",
       "      <td>5.143008</td>\n",
       "      <td>3.538057</td>\n",
       "      <td>smokes</td>\n",
       "      <td>1</td>\n",
       "    </tr>\n",
       "    <tr>\n",
       "      <th>4</th>\n",
       "      <td>1665</td>\n",
       "      <td>Female</td>\n",
       "      <td>79.0</td>\n",
       "      <td>1</td>\n",
       "      <td>0</td>\n",
       "      <td>Yes</td>\n",
       "      <td>Self-employed</td>\n",
       "      <td>Rural</td>\n",
       "      <td>5.159745</td>\n",
       "      <td>3.178054</td>\n",
       "      <td>never smoked</td>\n",
       "      <td>1</td>\n",
       "    </tr>\n",
       "    <tr>\n",
       "      <th>...</th>\n",
       "      <td>...</td>\n",
       "      <td>...</td>\n",
       "      <td>...</td>\n",
       "      <td>...</td>\n",
       "      <td>...</td>\n",
       "      <td>...</td>\n",
       "      <td>...</td>\n",
       "      <td>...</td>\n",
       "      <td>...</td>\n",
       "      <td>...</td>\n",
       "      <td>...</td>\n",
       "      <td>...</td>\n",
       "    </tr>\n",
       "    <tr>\n",
       "      <th>244</th>\n",
       "      <td>17739</td>\n",
       "      <td>Male</td>\n",
       "      <td>57.0</td>\n",
       "      <td>0</td>\n",
       "      <td>0</td>\n",
       "      <td>Yes</td>\n",
       "      <td>Private</td>\n",
       "      <td>Rural</td>\n",
       "      <td>4.442181</td>\n",
       "      <td>3.602777</td>\n",
       "      <td>Unknown</td>\n",
       "      <td>1</td>\n",
       "    </tr>\n",
       "    <tr>\n",
       "      <th>245</th>\n",
       "      <td>49669</td>\n",
       "      <td>Female</td>\n",
       "      <td>14.0</td>\n",
       "      <td>0</td>\n",
       "      <td>0</td>\n",
       "      <td>No</td>\n",
       "      <td>children</td>\n",
       "      <td>Rural</td>\n",
       "      <td>4.059235</td>\n",
       "      <td>3.430756</td>\n",
       "      <td>Unknown</td>\n",
       "      <td>1</td>\n",
       "    </tr>\n",
       "    <tr>\n",
       "      <th>246</th>\n",
       "      <td>27153</td>\n",
       "      <td>Female</td>\n",
       "      <td>75.0</td>\n",
       "      <td>0</td>\n",
       "      <td>0</td>\n",
       "      <td>Yes</td>\n",
       "      <td>Self-employed</td>\n",
       "      <td>Rural</td>\n",
       "      <td>4.366913</td>\n",
       "      <td>3.377588</td>\n",
       "      <td>formerly smoked</td>\n",
       "      <td>1</td>\n",
       "    </tr>\n",
       "    <tr>\n",
       "      <th>247</th>\n",
       "      <td>34060</td>\n",
       "      <td>Male</td>\n",
       "      <td>71.0</td>\n",
       "      <td>1</td>\n",
       "      <td>0</td>\n",
       "      <td>Yes</td>\n",
       "      <td>Self-employed</td>\n",
       "      <td>Rural</td>\n",
       "      <td>4.475062</td>\n",
       "      <td>NaN</td>\n",
       "      <td>Unknown</td>\n",
       "      <td>1</td>\n",
       "    </tr>\n",
       "    <tr>\n",
       "      <th>248</th>\n",
       "      <td>43424</td>\n",
       "      <td>Female</td>\n",
       "      <td>78.0</td>\n",
       "      <td>0</td>\n",
       "      <td>0</td>\n",
       "      <td>Yes</td>\n",
       "      <td>Private</td>\n",
       "      <td>Rural</td>\n",
       "      <td>4.367040</td>\n",
       "      <td>2.975530</td>\n",
       "      <td>Unknown</td>\n",
       "      <td>1</td>\n",
       "    </tr>\n",
       "  </tbody>\n",
       "</table>\n",
       "<p>249 rows × 12 columns</p>\n",
       "</div>"
      ],
      "text/plain": [
       "        id  gender   age  hypertension  heart_disease ever_married  \\\n",
       "0     9046    Male  67.0             0              1          Yes   \n",
       "1    51676  Female  61.0             0              0          Yes   \n",
       "2    31112    Male  80.0             0              1          Yes   \n",
       "3    60182  Female  49.0             0              0          Yes   \n",
       "4     1665  Female  79.0             1              0          Yes   \n",
       "..     ...     ...   ...           ...            ...          ...   \n",
       "244  17739    Male  57.0             0              0          Yes   \n",
       "245  49669  Female  14.0             0              0           No   \n",
       "246  27153  Female  75.0             0              0          Yes   \n",
       "247  34060    Male  71.0             1              0          Yes   \n",
       "248  43424  Female  78.0             0              0          Yes   \n",
       "\n",
       "         work_type Residence_type  avg_glucose_level       bmi  \\\n",
       "0          Private          Urban           5.432367  3.600048   \n",
       "1    Self-employed          Rural           5.309307       NaN   \n",
       "2          Private          Rural           4.662684  3.481240   \n",
       "3          Private          Urban           5.143008  3.538057   \n",
       "4    Self-employed          Rural           5.159745  3.178054   \n",
       "..             ...            ...                ...       ...   \n",
       "244        Private          Rural           4.442181  3.602777   \n",
       "245       children          Rural           4.059235  3.430756   \n",
       "246  Self-employed          Rural           4.366913  3.377588   \n",
       "247  Self-employed          Rural           4.475062       NaN   \n",
       "248        Private          Rural           4.367040  2.975530   \n",
       "\n",
       "      smoking_status  stroke  \n",
       "0    formerly smoked       1  \n",
       "1       never smoked       1  \n",
       "2       never smoked       1  \n",
       "3             smokes       1  \n",
       "4       never smoked       1  \n",
       "..               ...     ...  \n",
       "244          Unknown       1  \n",
       "245          Unknown       1  \n",
       "246  formerly smoked       1  \n",
       "247          Unknown       1  \n",
       "248          Unknown       1  \n",
       "\n",
       "[249 rows x 12 columns]"
      ]
     },
     "execution_count": 14,
     "metadata": {},
     "output_type": "execute_result"
    }
   ],
   "source": [
    "yes_stroke_data"
   ]
  },
  {
   "cell_type": "code",
   "execution_count": 15,
   "id": "70836e13",
   "metadata": {},
   "outputs": [
    {
     "data": {
      "text/html": [
       "<div>\n",
       "<style scoped>\n",
       "    .dataframe tbody tr th:only-of-type {\n",
       "        vertical-align: middle;\n",
       "    }\n",
       "\n",
       "    .dataframe tbody tr th {\n",
       "        vertical-align: top;\n",
       "    }\n",
       "\n",
       "    .dataframe thead th {\n",
       "        text-align: right;\n",
       "    }\n",
       "</style>\n",
       "<table border=\"1\" class=\"dataframe\">\n",
       "  <thead>\n",
       "    <tr style=\"text-align: right;\">\n",
       "      <th></th>\n",
       "      <th>gender</th>\n",
       "      <th>stroke</th>\n",
       "    </tr>\n",
       "  </thead>\n",
       "  <tbody>\n",
       "    <tr>\n",
       "      <th>0</th>\n",
       "      <td>Female</td>\n",
       "      <td>141</td>\n",
       "    </tr>\n",
       "    <tr>\n",
       "      <th>1</th>\n",
       "      <td>Male</td>\n",
       "      <td>108</td>\n",
       "    </tr>\n",
       "  </tbody>\n",
       "</table>\n",
       "</div>"
      ],
      "text/plain": [
       "   gender  stroke\n",
       "0  Female     141\n",
       "1    Male     108"
      ]
     },
     "execution_count": 15,
     "metadata": {},
     "output_type": "execute_result"
    }
   ],
   "source": [
    "gender_stroke = yes_stroke_data[['gender', 'stroke']].groupby(by=['gender'], as_index=False).count().sort_values(by=['gender'])\n",
    "gender_stroke = gender_stroke.reset_index(drop=True)\n",
    "gender_stroke"
   ]
  },
  {
   "cell_type": "markdown",
   "id": "a164513f",
   "metadata": {},
   "source": [
    "### 고혈압 유무에 따른 뇌졸중 발생 분석"
   ]
  },
  {
   "cell_type": "code",
   "execution_count": 16,
   "id": "d6927eac",
   "metadata": {},
   "outputs": [
    {
     "data": {
      "text/html": [
       "<div>\n",
       "<style scoped>\n",
       "    .dataframe tbody tr th:only-of-type {\n",
       "        vertical-align: middle;\n",
       "    }\n",
       "\n",
       "    .dataframe tbody tr th {\n",
       "        vertical-align: top;\n",
       "    }\n",
       "\n",
       "    .dataframe thead th {\n",
       "        text-align: right;\n",
       "    }\n",
       "</style>\n",
       "<table border=\"1\" class=\"dataframe\">\n",
       "  <thead>\n",
       "    <tr style=\"text-align: right;\">\n",
       "      <th></th>\n",
       "      <th>hypertension</th>\n",
       "      <th>stroke</th>\n",
       "    </tr>\n",
       "  </thead>\n",
       "  <tbody>\n",
       "    <tr>\n",
       "      <th>0</th>\n",
       "      <td>0</td>\n",
       "      <td>0.039679</td>\n",
       "    </tr>\n",
       "    <tr>\n",
       "      <th>1</th>\n",
       "      <td>1</td>\n",
       "      <td>0.132530</td>\n",
       "    </tr>\n",
       "  </tbody>\n",
       "</table>\n",
       "</div>"
      ],
      "text/plain": [
       "   hypertension    stroke\n",
       "0             0  0.039679\n",
       "1             1  0.132530"
      ]
     },
     "execution_count": 16,
     "metadata": {},
     "output_type": "execute_result"
    }
   ],
   "source": [
    "hypertension_stroke = stroke_data[['hypertension', 'stroke']].groupby(by=['hypertension'], as_index=False).mean().sort_values(by=['hypertension'])\n",
    "hypertension_stroke = hypertension_stroke.reset_index(drop=True)\n",
    "hypertension_stroke"
   ]
  },
  {
   "cell_type": "markdown",
   "id": "837a2924",
   "metadata": {},
   "source": [
    "### 심장병 유무에 따른 뇌졸중 발생 분석"
   ]
  },
  {
   "cell_type": "code",
   "execution_count": 17,
   "id": "b5496fef",
   "metadata": {},
   "outputs": [
    {
     "data": {
      "text/html": [
       "<div>\n",
       "<style scoped>\n",
       "    .dataframe tbody tr th:only-of-type {\n",
       "        vertical-align: middle;\n",
       "    }\n",
       "\n",
       "    .dataframe tbody tr th {\n",
       "        vertical-align: top;\n",
       "    }\n",
       "\n",
       "    .dataframe thead th {\n",
       "        text-align: right;\n",
       "    }\n",
       "</style>\n",
       "<table border=\"1\" class=\"dataframe\">\n",
       "  <thead>\n",
       "    <tr style=\"text-align: right;\">\n",
       "      <th></th>\n",
       "      <th>heart_disease</th>\n",
       "      <th>stroke</th>\n",
       "    </tr>\n",
       "  </thead>\n",
       "  <tbody>\n",
       "    <tr>\n",
       "      <th>0</th>\n",
       "      <td>0</td>\n",
       "      <td>0.041787</td>\n",
       "    </tr>\n",
       "    <tr>\n",
       "      <th>1</th>\n",
       "      <td>1</td>\n",
       "      <td>0.170290</td>\n",
       "    </tr>\n",
       "  </tbody>\n",
       "</table>\n",
       "</div>"
      ],
      "text/plain": [
       "   heart_disease    stroke\n",
       "0              0  0.041787\n",
       "1              1  0.170290"
      ]
     },
     "execution_count": 17,
     "metadata": {},
     "output_type": "execute_result"
    }
   ],
   "source": [
    "heart_disease_stroke = stroke_data[['heart_disease', 'stroke']].groupby(by=['heart_disease'], as_index=False).mean().sort_values(by=['heart_disease'])\n",
    "heart_disease_stroke = heart_disease_stroke.reset_index(drop=True)\n",
    "heart_disease_stroke"
   ]
  },
  {
   "cell_type": "markdown",
   "id": "bcc03e6c",
   "metadata": {},
   "source": [
    "### 뇌졸중 발생 비율 차트 "
   ]
  },
  {
   "cell_type": "code",
   "execution_count": 18,
   "id": "995abee6",
   "metadata": {},
   "outputs": [
    {
     "data": {
      "text/plain": [
       "0    4861\n",
       "1     249\n",
       "Name: stroke, dtype: int64"
      ]
     },
     "execution_count": 18,
     "metadata": {},
     "output_type": "execute_result"
    }
   ],
   "source": [
    "stroke_data['stroke'].value_counts()"
   ]
  },
  {
   "cell_type": "code",
   "execution_count": 19,
   "id": "3a62a721",
   "metadata": {},
   "outputs": [
    {
     "name": "stdout",
     "output_type": "stream",
     "text": [
      "No stroke data:  4861 \n",
      "Yes stroke data:  249\n"
     ]
    },
    {
     "data": {
      "image/png": "[encoded data removed]",
      "text/plain": [
       "<Figure size 720x360 with 1 Axes>"
      ]
     },
     "metadata": {
      "needs_background": "light"
     },
     "output_type": "display_data"
    }
   ],
   "source": [
    "no_stroke_data_cnt = stroke_data[stroke_data['stroke']==0]['stroke'].count()\n",
    "yes_stroke_data_cnt = yes_stroke_data['stroke'].count()\n",
    "\n",
    "print(\"No stroke data: \",no_stroke_data_cnt, \"\\nYes stroke data: \",yes_stroke_data_cnt)\n",
    "\n",
    "labels = ['no stroke', 'stroke']\n",
    "cnt = [no_stroke_data_cnt, yes_stroke_data_cnt]\n",
    "\n",
    "plt.bar(labels, cnt, color='lightsteelblue',edgecolor='black')\n",
    "plt.show()"
   ]
  },
  {
   "cell_type": "code",
   "execution_count": 20,
   "id": "f5f6a186",
   "metadata": {},
   "outputs": [
    {
     "data": {
      "image/png": "[encoded data removed]",
      "text/plain": [
       "<Figure size 576x576 with 1 Axes>"
      ]
     },
     "metadata": {},
     "output_type": "display_data"
    }
   ],
   "source": [
    "fig = plt.figure(figsize=(8,8))\n",
    "sns.set(font='Malgun Gothic', rc={'axes.unicode_minus':False}, style='white')\n",
    "\n",
    "colors = ['powderblue', 'lightpink']\n",
    "explode = (0.05, 0)\n",
    "stroke_index = ['no stroke', 'stroke']\n",
    "\n",
    "plt.pie(stroke_data['stroke'].value_counts(), colors = colors, explode = explode, shadow = True, \n",
    "        autopct=\"%1.1f%%\", startangle = 90, textprops = {'fontsize':14})\n",
    "plt.legend(stroke_index, loc = 'right', shadow = True, fontsize = 12)\n",
    "plt.axis('equal')\n",
    "plt.suptitle(\"The incidence rate for stroke data\", fontsize = 18, fontweight = 'bold', color='gray')\n",
    "\n",
    "plt.savefig(\"The incidence rate for stroke.png\")\n",
    "plt.show()\n"
   ]
  },
  {
   "cell_type": "markdown",
   "id": "2c9625e6",
   "metadata": {},
   "source": [
    "### 나이, 혈당, 체질량지수에 따른 뇌졸중 발생 분석 그래프 "
   ]
  },
  {
   "cell_type": "markdown",
   "id": "4120b41c",
   "metadata": {},
   "source": [
    "#### <span style = \"color:orange\"> KDE plot? </span>\n",
    "##### - 커널 밀도 추정 그래프\n",
    "##### - 커널 함수와 데이터를 바탕으로 연속성 있는 확률 밀도 함수를 추정하는 것\n",
    "##### - 관측된 데이터마다 해당 데이터를 중심으로 커널 함수 생성, 해당 함수를 모두 더하고 데이터 개수로 나눠서 확률 밀도 함수 구함\n",
    "##### - histogram보다 부드러운 형태의 분포 곡선\n",
    "#### <span style = \"color:orange\"> Density Estimation (밀도 추정)? </span>\n",
    "##### - 관측된 데이터로부터 변수가 가잘 수 있는 모든 값의 밀도(확률)를 추정하는 것\n",
    "#### <span style = \"color:orange\"> Kernel Function (커널 함수)? </span>\n",
    "##### - 아래 3가지 조건을 모두 만족하는 함수\n",
    "##### 1) 적분값 = 1\n",
    "##### 2) 원점 중심 대칭 \n",
    "##### 3) Non-negative\n",
    "##### 출처 https://sungkee-book.tistory.com/2"
   ]
  },
  {
   "cell_type": "code",
   "execution_count": 21,
   "id": "8b110d1f",
   "metadata": {},
   "outputs": [
    {
     "data": {
      "image/png": "[encoded data removed]",
      "text/plain": [
       "<Figure size 864x936 with 3 Axes>"
      ]
     },
     "metadata": {},
     "output_type": "display_data"
    }
   ],
   "source": [
    "sns.set_style(\"white\")\n",
    "fig, ax = plt.subplots(3,1, figsize=(12,13))\n",
    "\n",
    "plt.suptitle(\"KDE plot for features\", fontsize = 20, fontweight = 'bold', color='gray')\n",
    "\n",
    "sns.kdeplot(x=stroke_data['age'], hue=stroke_data['stroke'], shade=True, palette=\"pastel\", ax=ax[0])\n",
    "sns.kdeplot(x=stroke_data['avg_glucose_level'], hue=stroke_data['stroke'], shade=True, palette=\"husl\", ax=ax[1])\n",
    "sns.kdeplot(x=stroke_data['bmi'], hue=stroke_data['stroke'], shade=True, palette=\"Set2\", ax=ax[2])\n",
    "\n",
    "plt.savefig(\"KDE plot for features.png\")"
   ]
  },
  {
   "cell_type": "markdown",
   "id": "78cf4e81",
   "metadata": {},
   "source": [
    "### 그 외 변수들에 따른 뇌졸중 발생 분석 "
   ]
  },
  {
   "cell_type": "code",
   "execution_count": 22,
   "id": "e3425465",
   "metadata": {},
   "outputs": [
    {
     "data": {
      "image/png": "[encoded data removed]",
      "text/plain": [
       "<Figure size 1440x720 with 6 Axes>"
      ]
     },
     "metadata": {},
     "output_type": "display_data"
    }
   ],
   "source": [
    "sns.set_style(\"whitegrid\")\n",
    "fig, ax = plt.subplots(2,3,figsize=(20,10))\n",
    "\n",
    "plt.suptitle(\"Count plot for features\", fontsize = 20, fontweight = 'bold', color='gray')\n",
    "\n",
    "ax0 = sns.countplot(x='gender', hue='stroke', data=stroke_data, ax=ax[0,0], palette='Reds')\n",
    "ax1 = sns.countplot(x='hypertension', hue='stroke',data=stroke_data, ax=ax[0,1], palette='PuRd')\n",
    "ax2 = sns.countplot(x='heart_disease', hue='stroke', data=stroke_data, ax=ax[0,2], palette='BuPu')\n",
    "ax3 = sns.countplot(x='ever_married',hue='stroke', data=stroke_data, ax=ax[1,0], palette='BuGn')\n",
    "ax4 = sns.countplot(x='Residence_type',hue='stroke', data=stroke_data, ax=ax[1,1], palette='YlGn')\n",
    "ax5 = sns.countplot(x='smoking_status',hue='stroke', data=stroke_data, ax=ax[1,2], palette='Greys')\n",
    "\n",
    "plt.savefig(\"Count plot for features.png\")"
   ]
  },
  {
   "cell_type": "markdown",
   "id": "fb65ead4",
   "metadata": {},
   "source": [
    "### 나이와 상관관계가 높은 각 feature 발생 분석 "
   ]
  },
  {
   "cell_type": "code",
   "execution_count": 23,
   "id": "c45460c3",
   "metadata": {},
   "outputs": [
    {
     "data": {
      "image/png": "[encoded data removed]",
      "text/plain": [
       "<Figure size 1440x720 with 4 Axes>"
      ]
     },
     "metadata": {},
     "output_type": "display_data"
    }
   ],
   "source": [
    "fig, ax = plt.subplots(2,2,figsize=(20,10))\n",
    "\n",
    "plt.suptitle(\"Various plot for features\", fontsize = 20, fontweight = 'bold', color='gray')\n",
    "\n",
    "ax0 = sns.stripplot(x='hypertension', y='age', data=stroke_data, ax=ax[0,0], palette='Blues')\n",
    "ax1 = sns.stripplot(x='heart_disease', y='age', data=stroke_data, ax=ax[0,1], palette='Purples' )\n",
    "ax2 = sns.regplot(x='bmi', y='age', data=stroke_data, fit_reg=False, color='lightsteelblue', ax=ax[1,0])\n",
    "ax3 = sns.regplot(x='avg_glucose_level', y='age', data=stroke_data, fit_reg=False, color='thistle', ax=ax[1,1])\n",
    "\n",
    "plt.savefig(\"Various plot for features.png\")"
   ]
  },
  {
   "cell_type": "markdown",
   "id": "b55f1f55",
   "metadata": {},
   "source": [
    "## <span style =\"color:blue\"> 3. Data Preprocessing </span>"
   ]
  },
  {
   "cell_type": "markdown",
   "id": "639a9e9b",
   "metadata": {},
   "source": [
    "### 결측치 확인"
   ]
  },
  {
   "cell_type": "code",
   "execution_count": 24,
   "id": "378ac012",
   "metadata": {},
   "outputs": [
    {
     "data": {
      "text/plain": [
       "id                     0\n",
       "gender                 0\n",
       "age                    0\n",
       "hypertension           0\n",
       "heart_disease          0\n",
       "ever_married           0\n",
       "work_type              0\n",
       "Residence_type         0\n",
       "avg_glucose_level      0\n",
       "bmi                  201\n",
       "smoking_status         0\n",
       "stroke                 0\n",
       "dtype: int64"
      ]
     },
     "execution_count": 24,
     "metadata": {},
     "output_type": "execute_result"
    }
   ],
   "source": [
    "stroke_data.isnull().sum()"
   ]
  },
  {
   "cell_type": "markdown",
   "id": "e96e6d36",
   "metadata": {},
   "source": [
    "### 결측치 대체 및 확인"
   ]
  },
  {
   "cell_type": "code",
   "execution_count": 25,
   "id": "14153b39",
   "metadata": {},
   "outputs": [],
   "source": [
    "stroke_data = stroke_data.fillna({'bmi':stroke_data['bmi'].mean()})"
   ]
  },
  {
   "cell_type": "code",
   "execution_count": 26,
   "id": "5ec65e84",
   "metadata": {},
   "outputs": [
    {
     "data": {
      "text/plain": [
       "id                   False\n",
       "gender               False\n",
       "age                  False\n",
       "hypertension         False\n",
       "heart_disease        False\n",
       "ever_married         False\n",
       "work_type            False\n",
       "Residence_type       False\n",
       "avg_glucose_level    False\n",
       "bmi                  False\n",
       "smoking_status       False\n",
       "stroke               False\n",
       "dtype: bool"
      ]
     },
     "execution_count": 26,
     "metadata": {},
     "output_type": "execute_result"
    }
   ],
   "source": [
    "stroke_data.isna().any()"
   ]
  },
  {
   "cell_type": "code",
   "execution_count": 27,
   "id": "9e7244de",
   "metadata": {},
   "outputs": [
    {
     "name": "stdout",
     "output_type": "stream",
     "text": [
      "<class 'pandas.core.frame.DataFrame'>\n",
      "RangeIndex: 5110 entries, 0 to 5109\n",
      "Data columns (total 12 columns):\n",
      " #   Column             Non-Null Count  Dtype  \n",
      "---  ------             --------------  -----  \n",
      " 0   id                 5110 non-null   int64  \n",
      " 1   gender             5110 non-null   object \n",
      " 2   age                5110 non-null   float64\n",
      " 3   hypertension       5110 non-null   int64  \n",
      " 4   heart_disease      5110 non-null   int64  \n",
      " 5   ever_married       5110 non-null   object \n",
      " 6   work_type          5110 non-null   object \n",
      " 7   Residence_type     5110 non-null   object \n",
      " 8   avg_glucose_level  5110 non-null   float64\n",
      " 9   bmi                5110 non-null   float64\n",
      " 10  smoking_status     5110 non-null   object \n",
      " 11  stroke             5110 non-null   int64  \n",
      "dtypes: float64(3), int64(4), object(5)\n",
      "memory usage: 479.2+ KB\n"
     ]
    }
   ],
   "source": [
    "stroke_data.info()"
   ]
  },
  {
   "cell_type": "markdown",
   "id": "b76aea43",
   "metadata": {},
   "source": [
    "### 성별 변수를 범주형으로 변경"
   ]
  },
  {
   "cell_type": "code",
   "execution_count": 28,
   "id": "b2996e15",
   "metadata": {},
   "outputs": [
    {
     "data": {
      "text/plain": [
       "Female    2994\n",
       "Male      2115\n",
       "Other        1\n",
       "Name: gender, dtype: int64"
      ]
     },
     "execution_count": 28,
     "metadata": {},
     "output_type": "execute_result"
    }
   ],
   "source": [
    "stroke_data['gender'].value_counts()"
   ]
  },
  {
   "cell_type": "code",
   "execution_count": 29,
   "id": "905277bf",
   "metadata": {},
   "outputs": [],
   "source": [
    "stroke_data = stroke_data[~stroke_data['gender'].str.contains('Other')]"
   ]
  },
  {
   "cell_type": "code",
   "execution_count": 30,
   "id": "c6bba880",
   "metadata": {},
   "outputs": [],
   "source": [
    "stroke_data['gender'] = stroke_data['gender'].map(\n",
    "    {'Male':0, 'Female':1}).astype('int')"
   ]
  },
  {
   "cell_type": "code",
   "execution_count": 31,
   "id": "a179fd4a",
   "metadata": {},
   "outputs": [
    {
     "data": {
      "text/html": [
       "<div>\n",
       "<style scoped>\n",
       "    .dataframe tbody tr th:only-of-type {\n",
       "        vertical-align: middle;\n",
       "    }\n",
       "\n",
       "    .dataframe tbody tr th {\n",
       "        vertical-align: top;\n",
       "    }\n",
       "\n",
       "    .dataframe thead th {\n",
       "        text-align: right;\n",
       "    }\n",
       "</style>\n",
       "<table border=\"1\" class=\"dataframe\">\n",
       "  <thead>\n",
       "    <tr style=\"text-align: right;\">\n",
       "      <th></th>\n",
       "      <th>id</th>\n",
       "      <th>gender</th>\n",
       "      <th>age</th>\n",
       "      <th>hypertension</th>\n",
       "      <th>heart_disease</th>\n",
       "      <th>ever_married</th>\n",
       "      <th>work_type</th>\n",
       "      <th>Residence_type</th>\n",
       "      <th>avg_glucose_level</th>\n",
       "      <th>bmi</th>\n",
       "      <th>smoking_status</th>\n",
       "      <th>stroke</th>\n",
       "    </tr>\n",
       "  </thead>\n",
       "  <tbody>\n",
       "    <tr>\n",
       "      <th>0</th>\n",
       "      <td>9046</td>\n",
       "      <td>0</td>\n",
       "      <td>67.0</td>\n",
       "      <td>0</td>\n",
       "      <td>1</td>\n",
       "      <td>Yes</td>\n",
       "      <td>Private</td>\n",
       "      <td>Urban</td>\n",
       "      <td>5.432367</td>\n",
       "      <td>3.600048</td>\n",
       "      <td>formerly smoked</td>\n",
       "      <td>1</td>\n",
       "    </tr>\n",
       "    <tr>\n",
       "      <th>1</th>\n",
       "      <td>51676</td>\n",
       "      <td>1</td>\n",
       "      <td>61.0</td>\n",
       "      <td>0</td>\n",
       "      <td>0</td>\n",
       "      <td>Yes</td>\n",
       "      <td>Self-employed</td>\n",
       "      <td>Rural</td>\n",
       "      <td>5.309307</td>\n",
       "      <td>3.328423</td>\n",
       "      <td>never smoked</td>\n",
       "      <td>1</td>\n",
       "    </tr>\n",
       "    <tr>\n",
       "      <th>2</th>\n",
       "      <td>31112</td>\n",
       "      <td>0</td>\n",
       "      <td>80.0</td>\n",
       "      <td>0</td>\n",
       "      <td>1</td>\n",
       "      <td>Yes</td>\n",
       "      <td>Private</td>\n",
       "      <td>Rural</td>\n",
       "      <td>4.662684</td>\n",
       "      <td>3.481240</td>\n",
       "      <td>never smoked</td>\n",
       "      <td>1</td>\n",
       "    </tr>\n",
       "    <tr>\n",
       "      <th>3</th>\n",
       "      <td>60182</td>\n",
       "      <td>1</td>\n",
       "      <td>49.0</td>\n",
       "      <td>0</td>\n",
       "      <td>0</td>\n",
       "      <td>Yes</td>\n",
       "      <td>Private</td>\n",
       "      <td>Urban</td>\n",
       "      <td>5.143008</td>\n",
       "      <td>3.538057</td>\n",
       "      <td>smokes</td>\n",
       "      <td>1</td>\n",
       "    </tr>\n",
       "    <tr>\n",
       "      <th>4</th>\n",
       "      <td>1665</td>\n",
       "      <td>1</td>\n",
       "      <td>79.0</td>\n",
       "      <td>1</td>\n",
       "      <td>0</td>\n",
       "      <td>Yes</td>\n",
       "      <td>Self-employed</td>\n",
       "      <td>Rural</td>\n",
       "      <td>5.159745</td>\n",
       "      <td>3.178054</td>\n",
       "      <td>never smoked</td>\n",
       "      <td>1</td>\n",
       "    </tr>\n",
       "  </tbody>\n",
       "</table>\n",
       "</div>"
      ],
      "text/plain": [
       "      id  gender   age  hypertension  heart_disease ever_married  \\\n",
       "0   9046       0  67.0             0              1          Yes   \n",
       "1  51676       1  61.0             0              0          Yes   \n",
       "2  31112       0  80.0             0              1          Yes   \n",
       "3  60182       1  49.0             0              0          Yes   \n",
       "4   1665       1  79.0             1              0          Yes   \n",
       "\n",
       "       work_type Residence_type  avg_glucose_level       bmi   smoking_status  \\\n",
       "0        Private          Urban           5.432367  3.600048  formerly smoked   \n",
       "1  Self-employed          Rural           5.309307  3.328423     never smoked   \n",
       "2        Private          Rural           4.662684  3.481240     never smoked   \n",
       "3        Private          Urban           5.143008  3.538057           smokes   \n",
       "4  Self-employed          Rural           5.159745  3.178054     never smoked   \n",
       "\n",
       "   stroke  \n",
       "0       1  \n",
       "1       1  \n",
       "2       1  \n",
       "3       1  \n",
       "4       1  "
      ]
     },
     "execution_count": 31,
     "metadata": {},
     "output_type": "execute_result"
    }
   ],
   "source": [
    "stroke_data.head(5)"
   ]
  },
  {
   "cell_type": "markdown",
   "id": "b608575d",
   "metadata": {},
   "source": [
    "### 나이 변수 소수점 제거 (소수점 올림)"
   ]
  },
  {
   "cell_type": "code",
   "execution_count": 32,
   "id": "2e388034",
   "metadata": {},
   "outputs": [],
   "source": [
    "stroke_data['age'] = (stroke_data['age'].apply(np.ceil)).astype('int')"
   ]
  },
  {
   "cell_type": "code",
   "execution_count": 33,
   "id": "1fed498c",
   "metadata": {},
   "outputs": [
    {
     "data": {
      "text/html": [
       "<div>\n",
       "<style scoped>\n",
       "    .dataframe tbody tr th:only-of-type {\n",
       "        vertical-align: middle;\n",
       "    }\n",
       "\n",
       "    .dataframe tbody tr th {\n",
       "        vertical-align: top;\n",
       "    }\n",
       "\n",
       "    .dataframe thead th {\n",
       "        text-align: right;\n",
       "    }\n",
       "</style>\n",
       "<table border=\"1\" class=\"dataframe\">\n",
       "  <thead>\n",
       "    <tr style=\"text-align: right;\">\n",
       "      <th></th>\n",
       "      <th>id</th>\n",
       "      <th>gender</th>\n",
       "      <th>age</th>\n",
       "      <th>hypertension</th>\n",
       "      <th>heart_disease</th>\n",
       "      <th>ever_married</th>\n",
       "      <th>work_type</th>\n",
       "      <th>Residence_type</th>\n",
       "      <th>avg_glucose_level</th>\n",
       "      <th>bmi</th>\n",
       "      <th>smoking_status</th>\n",
       "      <th>stroke</th>\n",
       "    </tr>\n",
       "  </thead>\n",
       "  <tbody>\n",
       "    <tr>\n",
       "      <th>0</th>\n",
       "      <td>9046</td>\n",
       "      <td>0</td>\n",
       "      <td>67</td>\n",
       "      <td>0</td>\n",
       "      <td>1</td>\n",
       "      <td>Yes</td>\n",
       "      <td>Private</td>\n",
       "      <td>Urban</td>\n",
       "      <td>5.432367</td>\n",
       "      <td>3.600048</td>\n",
       "      <td>formerly smoked</td>\n",
       "      <td>1</td>\n",
       "    </tr>\n",
       "    <tr>\n",
       "      <th>1</th>\n",
       "      <td>51676</td>\n",
       "      <td>1</td>\n",
       "      <td>61</td>\n",
       "      <td>0</td>\n",
       "      <td>0</td>\n",
       "      <td>Yes</td>\n",
       "      <td>Self-employed</td>\n",
       "      <td>Rural</td>\n",
       "      <td>5.309307</td>\n",
       "      <td>3.328423</td>\n",
       "      <td>never smoked</td>\n",
       "      <td>1</td>\n",
       "    </tr>\n",
       "    <tr>\n",
       "      <th>2</th>\n",
       "      <td>31112</td>\n",
       "      <td>0</td>\n",
       "      <td>80</td>\n",
       "      <td>0</td>\n",
       "      <td>1</td>\n",
       "      <td>Yes</td>\n",
       "      <td>Private</td>\n",
       "      <td>Rural</td>\n",
       "      <td>4.662684</td>\n",
       "      <td>3.481240</td>\n",
       "      <td>never smoked</td>\n",
       "      <td>1</td>\n",
       "    </tr>\n",
       "    <tr>\n",
       "      <th>3</th>\n",
       "      <td>60182</td>\n",
       "      <td>1</td>\n",
       "      <td>49</td>\n",
       "      <td>0</td>\n",
       "      <td>0</td>\n",
       "      <td>Yes</td>\n",
       "      <td>Private</td>\n",
       "      <td>Urban</td>\n",
       "      <td>5.143008</td>\n",
       "      <td>3.538057</td>\n",
       "      <td>smokes</td>\n",
       "      <td>1</td>\n",
       "    </tr>\n",
       "    <tr>\n",
       "      <th>4</th>\n",
       "      <td>1665</td>\n",
       "      <td>1</td>\n",
       "      <td>79</td>\n",
       "      <td>1</td>\n",
       "      <td>0</td>\n",
       "      <td>Yes</td>\n",
       "      <td>Self-employed</td>\n",
       "      <td>Rural</td>\n",
       "      <td>5.159745</td>\n",
       "      <td>3.178054</td>\n",
       "      <td>never smoked</td>\n",
       "      <td>1</td>\n",
       "    </tr>\n",
       "  </tbody>\n",
       "</table>\n",
       "</div>"
      ],
      "text/plain": [
       "      id  gender  age  hypertension  heart_disease ever_married  \\\n",
       "0   9046       0   67             0              1          Yes   \n",
       "1  51676       1   61             0              0          Yes   \n",
       "2  31112       0   80             0              1          Yes   \n",
       "3  60182       1   49             0              0          Yes   \n",
       "4   1665       1   79             1              0          Yes   \n",
       "\n",
       "       work_type Residence_type  avg_glucose_level       bmi   smoking_status  \\\n",
       "0        Private          Urban           5.432367  3.600048  formerly smoked   \n",
       "1  Self-employed          Rural           5.309307  3.328423     never smoked   \n",
       "2        Private          Rural           4.662684  3.481240     never smoked   \n",
       "3        Private          Urban           5.143008  3.538057           smokes   \n",
       "4  Self-employed          Rural           5.159745  3.178054     never smoked   \n",
       "\n",
       "   stroke  \n",
       "0       1  \n",
       "1       1  \n",
       "2       1  \n",
       "3       1  \n",
       "4       1  "
      ]
     },
     "execution_count": 33,
     "metadata": {},
     "output_type": "execute_result"
    }
   ],
   "source": [
    "stroke_data.head(5)"
   ]
  },
  {
   "cell_type": "markdown",
   "id": "668fc200",
   "metadata": {},
   "source": [
    "### 결혼 여부 변수를 범주형으로 변경"
   ]
  },
  {
   "cell_type": "code",
   "execution_count": 34,
   "id": "00d17f50",
   "metadata": {},
   "outputs": [
    {
     "data": {
      "text/plain": [
       "Yes    3353\n",
       "No     1756\n",
       "Name: ever_married, dtype: int64"
      ]
     },
     "execution_count": 34,
     "metadata": {},
     "output_type": "execute_result"
    }
   ],
   "source": [
    "stroke_data['ever_married'].value_counts()"
   ]
  },
  {
   "cell_type": "code",
   "execution_count": 35,
   "id": "966f7c4b",
   "metadata": {},
   "outputs": [],
   "source": [
    "stroke_data['ever_married'] = stroke_data['ever_married'].map({'No':0, \"Yes\":1}).astype('int')"
   ]
  },
  {
   "cell_type": "code",
   "execution_count": 36,
   "id": "358c97b6",
   "metadata": {},
   "outputs": [
    {
     "data": {
      "text/html": [
       "<div>\n",
       "<style scoped>\n",
       "    .dataframe tbody tr th:only-of-type {\n",
       "        vertical-align: middle;\n",
       "    }\n",
       "\n",
       "    .dataframe tbody tr th {\n",
       "        vertical-align: top;\n",
       "    }\n",
       "\n",
       "    .dataframe thead th {\n",
       "        text-align: right;\n",
       "    }\n",
       "</style>\n",
       "<table border=\"1\" class=\"dataframe\">\n",
       "  <thead>\n",
       "    <tr style=\"text-align: right;\">\n",
       "      <th></th>\n",
       "      <th>id</th>\n",
       "      <th>gender</th>\n",
       "      <th>age</th>\n",
       "      <th>hypertension</th>\n",
       "      <th>heart_disease</th>\n",
       "      <th>ever_married</th>\n",
       "      <th>work_type</th>\n",
       "      <th>Residence_type</th>\n",
       "      <th>avg_glucose_level</th>\n",
       "      <th>bmi</th>\n",
       "      <th>smoking_status</th>\n",
       "      <th>stroke</th>\n",
       "    </tr>\n",
       "  </thead>\n",
       "  <tbody>\n",
       "    <tr>\n",
       "      <th>0</th>\n",
       "      <td>9046</td>\n",
       "      <td>0</td>\n",
       "      <td>67</td>\n",
       "      <td>0</td>\n",
       "      <td>1</td>\n",
       "      <td>1</td>\n",
       "      <td>Private</td>\n",
       "      <td>Urban</td>\n",
       "      <td>5.432367</td>\n",
       "      <td>3.600048</td>\n",
       "      <td>formerly smoked</td>\n",
       "      <td>1</td>\n",
       "    </tr>\n",
       "    <tr>\n",
       "      <th>1</th>\n",
       "      <td>51676</td>\n",
       "      <td>1</td>\n",
       "      <td>61</td>\n",
       "      <td>0</td>\n",
       "      <td>0</td>\n",
       "      <td>1</td>\n",
       "      <td>Self-employed</td>\n",
       "      <td>Rural</td>\n",
       "      <td>5.309307</td>\n",
       "      <td>3.328423</td>\n",
       "      <td>never smoked</td>\n",
       "      <td>1</td>\n",
       "    </tr>\n",
       "    <tr>\n",
       "      <th>2</th>\n",
       "      <td>31112</td>\n",
       "      <td>0</td>\n",
       "      <td>80</td>\n",
       "      <td>0</td>\n",
       "      <td>1</td>\n",
       "      <td>1</td>\n",
       "      <td>Private</td>\n",
       "      <td>Rural</td>\n",
       "      <td>4.662684</td>\n",
       "      <td>3.481240</td>\n",
       "      <td>never smoked</td>\n",
       "      <td>1</td>\n",
       "    </tr>\n",
       "    <tr>\n",
       "      <th>3</th>\n",
       "      <td>60182</td>\n",
       "      <td>1</td>\n",
       "      <td>49</td>\n",
       "      <td>0</td>\n",
       "      <td>0</td>\n",
       "      <td>1</td>\n",
       "      <td>Private</td>\n",
       "      <td>Urban</td>\n",
       "      <td>5.143008</td>\n",
       "      <td>3.538057</td>\n",
       "      <td>smokes</td>\n",
       "      <td>1</td>\n",
       "    </tr>\n",
       "    <tr>\n",
       "      <th>4</th>\n",
       "      <td>1665</td>\n",
       "      <td>1</td>\n",
       "      <td>79</td>\n",
       "      <td>1</td>\n",
       "      <td>0</td>\n",
       "      <td>1</td>\n",
       "      <td>Self-employed</td>\n",
       "      <td>Rural</td>\n",
       "      <td>5.159745</td>\n",
       "      <td>3.178054</td>\n",
       "      <td>never smoked</td>\n",
       "      <td>1</td>\n",
       "    </tr>\n",
       "  </tbody>\n",
       "</table>\n",
       "</div>"
      ],
      "text/plain": [
       "      id  gender  age  hypertension  heart_disease  ever_married  \\\n",
       "0   9046       0   67             0              1             1   \n",
       "1  51676       1   61             0              0             1   \n",
       "2  31112       0   80             0              1             1   \n",
       "3  60182       1   49             0              0             1   \n",
       "4   1665       1   79             1              0             1   \n",
       "\n",
       "       work_type Residence_type  avg_glucose_level       bmi   smoking_status  \\\n",
       "0        Private          Urban           5.432367  3.600048  formerly smoked   \n",
       "1  Self-employed          Rural           5.309307  3.328423     never smoked   \n",
       "2        Private          Rural           4.662684  3.481240     never smoked   \n",
       "3        Private          Urban           5.143008  3.538057           smokes   \n",
       "4  Self-employed          Rural           5.159745  3.178054     never smoked   \n",
       "\n",
       "   stroke  \n",
       "0       1  \n",
       "1       1  \n",
       "2       1  \n",
       "3       1  \n",
       "4       1  "
      ]
     },
     "execution_count": 36,
     "metadata": {},
     "output_type": "execute_result"
    }
   ],
   "source": [
    "stroke_data.head(5)"
   ]
  },
  {
   "cell_type": "markdown",
   "id": "eaa501e5",
   "metadata": {},
   "source": [
    "### 거주지 타입 변수를 범주형으로 변경"
   ]
  },
  {
   "cell_type": "code",
   "execution_count": 37,
   "id": "247c7e99",
   "metadata": {},
   "outputs": [
    {
     "data": {
      "text/plain": [
       "Urban    2596\n",
       "Rural    2513\n",
       "Name: Residence_type, dtype: int64"
      ]
     },
     "execution_count": 37,
     "metadata": {},
     "output_type": "execute_result"
    }
   ],
   "source": [
    "stroke_data['Residence_type'].value_counts()"
   ]
  },
  {
   "cell_type": "code",
   "execution_count": 38,
   "id": "a54ec62a",
   "metadata": {},
   "outputs": [],
   "source": [
    "stroke_data['Residence_type'] = stroke_data['Residence_type'].map({'Urban':0, 'Rural':1}).astype('int')"
   ]
  },
  {
   "cell_type": "code",
   "execution_count": 39,
   "id": "4557129b",
   "metadata": {},
   "outputs": [
    {
     "data": {
      "text/html": [
       "<div>\n",
       "<style scoped>\n",
       "    .dataframe tbody tr th:only-of-type {\n",
       "        vertical-align: middle;\n",
       "    }\n",
       "\n",
       "    .dataframe tbody tr th {\n",
       "        vertical-align: top;\n",
       "    }\n",
       "\n",
       "    .dataframe thead th {\n",
       "        text-align: right;\n",
       "    }\n",
       "</style>\n",
       "<table border=\"1\" class=\"dataframe\">\n",
       "  <thead>\n",
       "    <tr style=\"text-align: right;\">\n",
       "      <th></th>\n",
       "      <th>id</th>\n",
       "      <th>gender</th>\n",
       "      <th>age</th>\n",
       "      <th>hypertension</th>\n",
       "      <th>heart_disease</th>\n",
       "      <th>ever_married</th>\n",
       "      <th>work_type</th>\n",
       "      <th>Residence_type</th>\n",
       "      <th>avg_glucose_level</th>\n",
       "      <th>bmi</th>\n",
       "      <th>smoking_status</th>\n",
       "      <th>stroke</th>\n",
       "    </tr>\n",
       "  </thead>\n",
       "  <tbody>\n",
       "    <tr>\n",
       "      <th>0</th>\n",
       "      <td>9046</td>\n",
       "      <td>0</td>\n",
       "      <td>67</td>\n",
       "      <td>0</td>\n",
       "      <td>1</td>\n",
       "      <td>1</td>\n",
       "      <td>Private</td>\n",
       "      <td>0</td>\n",
       "      <td>5.432367</td>\n",
       "      <td>3.600048</td>\n",
       "      <td>formerly smoked</td>\n",
       "      <td>1</td>\n",
       "    </tr>\n",
       "    <tr>\n",
       "      <th>1</th>\n",
       "      <td>51676</td>\n",
       "      <td>1</td>\n",
       "      <td>61</td>\n",
       "      <td>0</td>\n",
       "      <td>0</td>\n",
       "      <td>1</td>\n",
       "      <td>Self-employed</td>\n",
       "      <td>1</td>\n",
       "      <td>5.309307</td>\n",
       "      <td>3.328423</td>\n",
       "      <td>never smoked</td>\n",
       "      <td>1</td>\n",
       "    </tr>\n",
       "    <tr>\n",
       "      <th>2</th>\n",
       "      <td>31112</td>\n",
       "      <td>0</td>\n",
       "      <td>80</td>\n",
       "      <td>0</td>\n",
       "      <td>1</td>\n",
       "      <td>1</td>\n",
       "      <td>Private</td>\n",
       "      <td>1</td>\n",
       "      <td>4.662684</td>\n",
       "      <td>3.481240</td>\n",
       "      <td>never smoked</td>\n",
       "      <td>1</td>\n",
       "    </tr>\n",
       "    <tr>\n",
       "      <th>3</th>\n",
       "      <td>60182</td>\n",
       "      <td>1</td>\n",
       "      <td>49</td>\n",
       "      <td>0</td>\n",
       "      <td>0</td>\n",
       "      <td>1</td>\n",
       "      <td>Private</td>\n",
       "      <td>0</td>\n",
       "      <td>5.143008</td>\n",
       "      <td>3.538057</td>\n",
       "      <td>smokes</td>\n",
       "      <td>1</td>\n",
       "    </tr>\n",
       "    <tr>\n",
       "      <th>4</th>\n",
       "      <td>1665</td>\n",
       "      <td>1</td>\n",
       "      <td>79</td>\n",
       "      <td>1</td>\n",
       "      <td>0</td>\n",
       "      <td>1</td>\n",
       "      <td>Self-employed</td>\n",
       "      <td>1</td>\n",
       "      <td>5.159745</td>\n",
       "      <td>3.178054</td>\n",
       "      <td>never smoked</td>\n",
       "      <td>1</td>\n",
       "    </tr>\n",
       "  </tbody>\n",
       "</table>\n",
       "</div>"
      ],
      "text/plain": [
       "      id  gender  age  hypertension  heart_disease  ever_married  \\\n",
       "0   9046       0   67             0              1             1   \n",
       "1  51676       1   61             0              0             1   \n",
       "2  31112       0   80             0              1             1   \n",
       "3  60182       1   49             0              0             1   \n",
       "4   1665       1   79             1              0             1   \n",
       "\n",
       "       work_type  Residence_type  avg_glucose_level       bmi  \\\n",
       "0        Private               0           5.432367  3.600048   \n",
       "1  Self-employed               1           5.309307  3.328423   \n",
       "2        Private               1           4.662684  3.481240   \n",
       "3        Private               0           5.143008  3.538057   \n",
       "4  Self-employed               1           5.159745  3.178054   \n",
       "\n",
       "    smoking_status  stroke  \n",
       "0  formerly smoked       1  \n",
       "1     never smoked       1  \n",
       "2     never smoked       1  \n",
       "3           smokes       1  \n",
       "4     never smoked       1  "
      ]
     },
     "execution_count": 39,
     "metadata": {},
     "output_type": "execute_result"
    }
   ],
   "source": [
    "stroke_data.head(5)"
   ]
  },
  {
   "cell_type": "markdown",
   "id": "cfa338d3",
   "metadata": {},
   "source": [
    "### get_dummies를 이용한 변경"
   ]
  },
  {
   "cell_type": "code",
   "execution_count": 40,
   "id": "3d749f4a",
   "metadata": {},
   "outputs": [
    {
     "data": {
      "text/html": [
       "<div>\n",
       "<style scoped>\n",
       "    .dataframe tbody tr th:only-of-type {\n",
       "        vertical-align: middle;\n",
       "    }\n",
       "\n",
       "    .dataframe tbody tr th {\n",
       "        vertical-align: top;\n",
       "    }\n",
       "\n",
       "    .dataframe thead th {\n",
       "        text-align: right;\n",
       "    }\n",
       "</style>\n",
       "<table border=\"1\" class=\"dataframe\">\n",
       "  <thead>\n",
       "    <tr style=\"text-align: right;\">\n",
       "      <th></th>\n",
       "      <th>id</th>\n",
       "      <th>gender</th>\n",
       "      <th>age</th>\n",
       "      <th>hypertension</th>\n",
       "      <th>heart_disease</th>\n",
       "      <th>ever_married</th>\n",
       "      <th>Residence_type</th>\n",
       "      <th>avg_glucose_level</th>\n",
       "      <th>bmi</th>\n",
       "      <th>stroke</th>\n",
       "      <th>work_type_Govt_job</th>\n",
       "      <th>work_type_Never_worked</th>\n",
       "      <th>work_type_Private</th>\n",
       "      <th>work_type_Self-employed</th>\n",
       "      <th>work_type_children</th>\n",
       "      <th>smoking_status_Unknown</th>\n",
       "      <th>smoking_status_formerly smoked</th>\n",
       "      <th>smoking_status_never smoked</th>\n",
       "      <th>smoking_status_smokes</th>\n",
       "    </tr>\n",
       "  </thead>\n",
       "  <tbody>\n",
       "    <tr>\n",
       "      <th>0</th>\n",
       "      <td>9046</td>\n",
       "      <td>0</td>\n",
       "      <td>67</td>\n",
       "      <td>0</td>\n",
       "      <td>1</td>\n",
       "      <td>1</td>\n",
       "      <td>0</td>\n",
       "      <td>5.432367</td>\n",
       "      <td>3.600048</td>\n",
       "      <td>1</td>\n",
       "      <td>0</td>\n",
       "      <td>0</td>\n",
       "      <td>1</td>\n",
       "      <td>0</td>\n",
       "      <td>0</td>\n",
       "      <td>0</td>\n",
       "      <td>1</td>\n",
       "      <td>0</td>\n",
       "      <td>0</td>\n",
       "    </tr>\n",
       "    <tr>\n",
       "      <th>1</th>\n",
       "      <td>51676</td>\n",
       "      <td>1</td>\n",
       "      <td>61</td>\n",
       "      <td>0</td>\n",
       "      <td>0</td>\n",
       "      <td>1</td>\n",
       "      <td>1</td>\n",
       "      <td>5.309307</td>\n",
       "      <td>3.328423</td>\n",
       "      <td>1</td>\n",
       "      <td>0</td>\n",
       "      <td>0</td>\n",
       "      <td>0</td>\n",
       "      <td>1</td>\n",
       "      <td>0</td>\n",
       "      <td>0</td>\n",
       "      <td>0</td>\n",
       "      <td>1</td>\n",
       "      <td>0</td>\n",
       "    </tr>\n",
       "    <tr>\n",
       "      <th>2</th>\n",
       "      <td>31112</td>\n",
       "      <td>0</td>\n",
       "      <td>80</td>\n",
       "      <td>0</td>\n",
       "      <td>1</td>\n",
       "      <td>1</td>\n",
       "      <td>1</td>\n",
       "      <td>4.662684</td>\n",
       "      <td>3.481240</td>\n",
       "      <td>1</td>\n",
       "      <td>0</td>\n",
       "      <td>0</td>\n",
       "      <td>1</td>\n",
       "      <td>0</td>\n",
       "      <td>0</td>\n",
       "      <td>0</td>\n",
       "      <td>0</td>\n",
       "      <td>1</td>\n",
       "      <td>0</td>\n",
       "    </tr>\n",
       "    <tr>\n",
       "      <th>3</th>\n",
       "      <td>60182</td>\n",
       "      <td>1</td>\n",
       "      <td>49</td>\n",
       "      <td>0</td>\n",
       "      <td>0</td>\n",
       "      <td>1</td>\n",
       "      <td>0</td>\n",
       "      <td>5.143008</td>\n",
       "      <td>3.538057</td>\n",
       "      <td>1</td>\n",
       "      <td>0</td>\n",
       "      <td>0</td>\n",
       "      <td>1</td>\n",
       "      <td>0</td>\n",
       "      <td>0</td>\n",
       "      <td>0</td>\n",
       "      <td>0</td>\n",
       "      <td>0</td>\n",
       "      <td>1</td>\n",
       "    </tr>\n",
       "    <tr>\n",
       "      <th>4</th>\n",
       "      <td>1665</td>\n",
       "      <td>1</td>\n",
       "      <td>79</td>\n",
       "      <td>1</td>\n",
       "      <td>0</td>\n",
       "      <td>1</td>\n",
       "      <td>1</td>\n",
       "      <td>5.159745</td>\n",
       "      <td>3.178054</td>\n",
       "      <td>1</td>\n",
       "      <td>0</td>\n",
       "      <td>0</td>\n",
       "      <td>0</td>\n",
       "      <td>1</td>\n",
       "      <td>0</td>\n",
       "      <td>0</td>\n",
       "      <td>0</td>\n",
       "      <td>1</td>\n",
       "      <td>0</td>\n",
       "    </tr>\n",
       "    <tr>\n",
       "      <th>5</th>\n",
       "      <td>56669</td>\n",
       "      <td>0</td>\n",
       "      <td>81</td>\n",
       "      <td>0</td>\n",
       "      <td>0</td>\n",
       "      <td>1</td>\n",
       "      <td>0</td>\n",
       "      <td>5.226875</td>\n",
       "      <td>3.367296</td>\n",
       "      <td>1</td>\n",
       "      <td>0</td>\n",
       "      <td>0</td>\n",
       "      <td>1</td>\n",
       "      <td>0</td>\n",
       "      <td>0</td>\n",
       "      <td>0</td>\n",
       "      <td>1</td>\n",
       "      <td>0</td>\n",
       "      <td>0</td>\n",
       "    </tr>\n",
       "    <tr>\n",
       "      <th>6</th>\n",
       "      <td>53882</td>\n",
       "      <td>0</td>\n",
       "      <td>74</td>\n",
       "      <td>1</td>\n",
       "      <td>1</td>\n",
       "      <td>1</td>\n",
       "      <td>1</td>\n",
       "      <td>4.249780</td>\n",
       "      <td>3.310543</td>\n",
       "      <td>1</td>\n",
       "      <td>0</td>\n",
       "      <td>0</td>\n",
       "      <td>1</td>\n",
       "      <td>0</td>\n",
       "      <td>0</td>\n",
       "      <td>0</td>\n",
       "      <td>0</td>\n",
       "      <td>1</td>\n",
       "      <td>0</td>\n",
       "    </tr>\n",
       "    <tr>\n",
       "      <th>7</th>\n",
       "      <td>10434</td>\n",
       "      <td>1</td>\n",
       "      <td>69</td>\n",
       "      <td>0</td>\n",
       "      <td>0</td>\n",
       "      <td>0</td>\n",
       "      <td>0</td>\n",
       "      <td>4.547435</td>\n",
       "      <td>3.126761</td>\n",
       "      <td>1</td>\n",
       "      <td>0</td>\n",
       "      <td>0</td>\n",
       "      <td>1</td>\n",
       "      <td>0</td>\n",
       "      <td>0</td>\n",
       "      <td>0</td>\n",
       "      <td>0</td>\n",
       "      <td>1</td>\n",
       "      <td>0</td>\n",
       "    </tr>\n",
       "    <tr>\n",
       "      <th>8</th>\n",
       "      <td>27419</td>\n",
       "      <td>1</td>\n",
       "      <td>59</td>\n",
       "      <td>0</td>\n",
       "      <td>0</td>\n",
       "      <td>1</td>\n",
       "      <td>1</td>\n",
       "      <td>4.332705</td>\n",
       "      <td>3.328423</td>\n",
       "      <td>1</td>\n",
       "      <td>0</td>\n",
       "      <td>0</td>\n",
       "      <td>1</td>\n",
       "      <td>0</td>\n",
       "      <td>0</td>\n",
       "      <td>1</td>\n",
       "      <td>0</td>\n",
       "      <td>0</td>\n",
       "      <td>0</td>\n",
       "    </tr>\n",
       "    <tr>\n",
       "      <th>9</th>\n",
       "      <td>60491</td>\n",
       "      <td>1</td>\n",
       "      <td>78</td>\n",
       "      <td>0</td>\n",
       "      <td>0</td>\n",
       "      <td>1</td>\n",
       "      <td>0</td>\n",
       "      <td>4.070223</td>\n",
       "      <td>3.186353</td>\n",
       "      <td>1</td>\n",
       "      <td>0</td>\n",
       "      <td>0</td>\n",
       "      <td>1</td>\n",
       "      <td>0</td>\n",
       "      <td>0</td>\n",
       "      <td>1</td>\n",
       "      <td>0</td>\n",
       "      <td>0</td>\n",
       "      <td>0</td>\n",
       "    </tr>\n",
       "  </tbody>\n",
       "</table>\n",
       "</div>"
      ],
      "text/plain": [
       "      id  gender  age  hypertension  heart_disease  ever_married  \\\n",
       "0   9046       0   67             0              1             1   \n",
       "1  51676       1   61             0              0             1   \n",
       "2  31112       0   80             0              1             1   \n",
       "3  60182       1   49             0              0             1   \n",
       "4   1665       1   79             1              0             1   \n",
       "5  56669       0   81             0              0             1   \n",
       "6  53882       0   74             1              1             1   \n",
       "7  10434       1   69             0              0             0   \n",
       "8  27419       1   59             0              0             1   \n",
       "9  60491       1   78             0              0             1   \n",
       "\n",
       "   Residence_type  avg_glucose_level       bmi  stroke  work_type_Govt_job  \\\n",
       "0               0           5.432367  3.600048       1                   0   \n",
       "1               1           5.309307  3.328423       1                   0   \n",
       "2               1           4.662684  3.481240       1                   0   \n",
       "3               0           5.143008  3.538057       1                   0   \n",
       "4               1           5.159745  3.178054       1                   0   \n",
       "5               0           5.226875  3.367296       1                   0   \n",
       "6               1           4.249780  3.310543       1                   0   \n",
       "7               0           4.547435  3.126761       1                   0   \n",
       "8               1           4.332705  3.328423       1                   0   \n",
       "9               0           4.070223  3.186353       1                   0   \n",
       "\n",
       "   work_type_Never_worked  work_type_Private  work_type_Self-employed  \\\n",
       "0                       0                  1                        0   \n",
       "1                       0                  0                        1   \n",
       "2                       0                  1                        0   \n",
       "3                       0                  1                        0   \n",
       "4                       0                  0                        1   \n",
       "5                       0                  1                        0   \n",
       "6                       0                  1                        0   \n",
       "7                       0                  1                        0   \n",
       "8                       0                  1                        0   \n",
       "9                       0                  1                        0   \n",
       "\n",
       "   work_type_children  smoking_status_Unknown  smoking_status_formerly smoked  \\\n",
       "0                   0                       0                               1   \n",
       "1                   0                       0                               0   \n",
       "2                   0                       0                               0   \n",
       "3                   0                       0                               0   \n",
       "4                   0                       0                               0   \n",
       "5                   0                       0                               1   \n",
       "6                   0                       0                               0   \n",
       "7                   0                       0                               0   \n",
       "8                   0                       1                               0   \n",
       "9                   0                       1                               0   \n",
       "\n",
       "   smoking_status_never smoked  smoking_status_smokes  \n",
       "0                            0                      0  \n",
       "1                            1                      0  \n",
       "2                            1                      0  \n",
       "3                            0                      1  \n",
       "4                            1                      0  \n",
       "5                            0                      0  \n",
       "6                            1                      0  \n",
       "7                            1                      0  \n",
       "8                            0                      0  \n",
       "9                            0                      0  "
      ]
     },
     "execution_count": 40,
     "metadata": {},
     "output_type": "execute_result"
    }
   ],
   "source": [
    "stroke_data = pd.get_dummies(stroke_data, columns=['work_type', 'smoking_status'])\n",
    "stroke_data.head(10)"
   ]
  },
  {
   "cell_type": "code",
   "execution_count": 41,
   "id": "6180aaa8",
   "metadata": {},
   "outputs": [
    {
     "name": "stdout",
     "output_type": "stream",
     "text": [
      "<class 'pandas.core.frame.DataFrame'>\n",
      "Int64Index: 5109 entries, 0 to 5109\n",
      "Data columns (total 19 columns):\n",
      " #   Column                          Non-Null Count  Dtype  \n",
      "---  ------                          --------------  -----  \n",
      " 0   id                              5109 non-null   int64  \n",
      " 1   gender                          5109 non-null   int32  \n",
      " 2   age                             5109 non-null   int32  \n",
      " 3   hypertension                    5109 non-null   int64  \n",
      " 4   heart_disease                   5109 non-null   int64  \n",
      " 5   ever_married                    5109 non-null   int32  \n",
      " 6   Residence_type                  5109 non-null   int32  \n",
      " 7   avg_glucose_level               5109 non-null   float64\n",
      " 8   bmi                             5109 non-null   float64\n",
      " 9   stroke                          5109 non-null   int64  \n",
      " 10  work_type_Govt_job              5109 non-null   uint8  \n",
      " 11  work_type_Never_worked          5109 non-null   uint8  \n",
      " 12  work_type_Private               5109 non-null   uint8  \n",
      " 13  work_type_Self-employed         5109 non-null   uint8  \n",
      " 14  work_type_children              5109 non-null   uint8  \n",
      " 15  smoking_status_Unknown          5109 non-null   uint8  \n",
      " 16  smoking_status_formerly smoked  5109 non-null   uint8  \n",
      " 17  smoking_status_never smoked     5109 non-null   uint8  \n",
      " 18  smoking_status_smokes           5109 non-null   uint8  \n",
      "dtypes: float64(2), int32(4), int64(4), uint8(9)\n",
      "memory usage: 404.1 KB\n"
     ]
    }
   ],
   "source": [
    "stroke_data.info()"
   ]
  },
  {
   "cell_type": "markdown",
   "id": "aca95e18",
   "metadata": {},
   "source": [
    "## <span style =\"color:blue\"> 4. ML Model Evaluation </span>"
   ]
  },
  {
   "cell_type": "markdown",
   "id": "5441c50b",
   "metadata": {},
   "source": [
    "### Feature과 Label 정의"
   ]
  },
  {
   "cell_type": "code",
   "execution_count": 42,
   "id": "20e29534",
   "metadata": {},
   "outputs": [],
   "source": [
    "feature = stroke_data.drop(['id', 'stroke', 'smoking_status_Unknown'], axis=1)\n",
    "label = stroke_data[['stroke']]"
   ]
  },
  {
   "cell_type": "markdown",
   "id": "4635bb7f",
   "metadata": {},
   "source": [
    "### Over-sampling "
   ]
  },
  {
   "cell_type": "markdown",
   "id": "60a18827",
   "metadata": {},
   "source": [
    "#### <span style =\"color:green\"> Class imbalance (클래스 불균형)이란? </span>\n",
    "#### - 어떤 데이터에서 각 클래스가 갖고 있는 데이터의 양에 차이가 큰 경우를 의미\n",
    "#### - 소수 클래스의 의견에 귀를 기울이기 위한 작업 필요\n",
    "\n",
    "#### <span style =\"color:green\"> 1) Weight balancing </span>\n",
    "#### * Train 데이터에서 각 loss를 계산할 때, 특정 클래스에 대해서는 더 큰 loss를 계산\n",
    "#### * 또는, 클래스의 비율에 대해 가중치를 줌\n",
    "#### <span style =\"color:green\"> 2) Over-sampling / Under-sampling </span>\n",
    "#### * Over-sampling : 양이 적은 데이터를 양이 많은 데이터에 맞추는 방법\n",
    "##### <span style =\"color:red\"> - 단점) overfitting을 초래할 수 있음 </span>\n",
    "#### * Under-sampling : 양이 많은 데이터를 양이 적은 데이터에 맞추는 방법\n",
    "##### <span style =\"color:red\"> - 단점) 데이터 소실이 매우 크고, 중요한 데이터를 잃을 수 있음 </span>"
   ]
  },
  {
   "cell_type": "markdown",
   "id": "5db163dc",
   "metadata": {},
   "source": [
    "#### <span style =\"color:green\"> SMOTE? </span>\n",
    "##### - Over-sampling 방식 중 하나\n",
    "##### - 합성 소수 샘플링 기술, 다수 클래스를 샘플링하고 기존 소수 샘플을 보간하여 새로운 소수 인스턴스를 합성\n",
    "##### - 부트스트래핑 or KNN 모델 기법 활용\n",
    "##### 단, 새로운 사례의 데이터 예측엔 취약할 수 있다는 단점 !\n",
    "##### 출처 https://mkjjo.github.io/python/2019/01/04/smote_duplicate.html"
   ]
  },
  {
   "cell_type": "code",
   "execution_count": 43,
   "id": "5f9ccb2f",
   "metadata": {},
   "outputs": [],
   "source": [
    "from imblearn.over_sampling import SMOTE\n",
    "\n",
    "sm = SMOTE(sampling_strategy='auto')\n",
    "X_sm, y_sm = sm.fit_resample(feature, label)"
   ]
  },
  {
   "cell_type": "code",
   "execution_count": 44,
   "id": "a563c734",
   "metadata": {},
   "outputs": [
    {
     "name": "stdout",
     "output_type": "stream",
     "text": [
      "X_sm information\n",
      "\n",
      "<class 'pandas.core.frame.DataFrame'>\n",
      "RangeIndex: 9720 entries, 0 to 9719\n",
      "Data columns (total 16 columns):\n",
      " #   Column                          Non-Null Count  Dtype  \n",
      "---  ------                          --------------  -----  \n",
      " 0   gender                          9720 non-null   int32  \n",
      " 1   age                             9720 non-null   int32  \n",
      " 2   hypertension                    9720 non-null   int64  \n",
      " 3   heart_disease                   9720 non-null   int64  \n",
      " 4   ever_married                    9720 non-null   int32  \n",
      " 5   Residence_type                  9720 non-null   int32  \n",
      " 6   avg_glucose_level               9720 non-null   float64\n",
      " 7   bmi                             9720 non-null   float64\n",
      " 8   work_type_Govt_job              9720 non-null   uint8  \n",
      " 9   work_type_Never_worked          9720 non-null   uint8  \n",
      " 10  work_type_Private               9720 non-null   uint8  \n",
      " 11  work_type_Self-employed         9720 non-null   uint8  \n",
      " 12  work_type_children              9720 non-null   uint8  \n",
      " 13  smoking_status_formerly smoked  9720 non-null   uint8  \n",
      " 14  smoking_status_never smoked     9720 non-null   uint8  \n",
      " 15  smoking_status_smokes           9720 non-null   uint8  \n",
      "dtypes: float64(2), int32(4), int64(2), uint8(8)\n",
      "memory usage: 531.7 KB\n",
      "None\n",
      "\n",
      "y_sm information\n",
      "\n",
      "<class 'pandas.core.frame.DataFrame'>\n",
      "RangeIndex: 9720 entries, 0 to 9719\n",
      "Data columns (total 1 columns):\n",
      " #   Column  Non-Null Count  Dtype\n",
      "---  ------  --------------  -----\n",
      " 0   stroke  9720 non-null   int64\n",
      "dtypes: int64(1)\n",
      "memory usage: 76.1 KB\n",
      "None\n"
     ]
    }
   ],
   "source": [
    "print(\"X_sm information\\n\")\n",
    "print(X_sm.info())\n",
    "print(\"\\ny_sm information\\n\")\n",
    "print(y_sm.info())"
   ]
  },
  {
   "cell_type": "code",
   "execution_count": 45,
   "id": "daa28d07",
   "metadata": {},
   "outputs": [
    {
     "name": "stdout",
     "output_type": "stream",
     "text": [
      "stroke\n",
      "1         4860\n",
      "dtype: int64 stroke\n",
      "0         4860\n",
      "dtype: int64\n"
     ]
    }
   ],
   "source": [
    "print(y_sm[y_sm['stroke']==1].value_counts(),y_sm[y_sm['stroke']==0].value_counts())"
   ]
  },
  {
   "cell_type": "markdown",
   "id": "f2d64bce",
   "metadata": {},
   "source": [
    "### 데이터 표준화"
   ]
  },
  {
   "cell_type": "code",
   "execution_count": 46,
   "id": "50dbc241",
   "metadata": {},
   "outputs": [],
   "source": [
    "from sklearn.preprocessing import StandardScaler\n",
    "scaler = StandardScaler()\n",
    "X_scaled = scaler.fit_transform(X_sm)"
   ]
  },
  {
   "cell_type": "markdown",
   "id": "596e2565",
   "metadata": {},
   "source": [
    "### 학습 데이터와 테스트 데이터 분리"
   ]
  },
  {
   "cell_type": "code",
   "execution_count": 47,
   "id": "57030900",
   "metadata": {},
   "outputs": [],
   "source": [
    "from sklearn.model_selection import train_test_split\n",
    "X_train, X_test, y_train, y_test = train_test_split(X_scaled, y_sm, test_size=0.3, random_state=5)"
   ]
  },
  {
   "cell_type": "markdown",
   "id": "c5349e73",
   "metadata": {},
   "source": [
    "### 머신러닝 라이브러리 불러오기"
   ]
  },
  {
   "cell_type": "code",
   "execution_count": 48,
   "id": "145df56a",
   "metadata": {},
   "outputs": [],
   "source": [
    "from sklearn.linear_model import LogisticRegression\n",
    "from xgboost import XGBClassifier\n",
    "from sklearn.ensemble import RandomForestClassifier\n",
    "from sklearn.neighbors import KNeighborsClassifier\n",
    "from sklearn.svm import SVC\n",
    "from sklearn.naive_bayes import GaussianNB\n",
    "from sklearn.metrics import classification_report\n",
    "from sklearn.metrics import accuracy_score, precision_score, recall_score,f1_score\n",
    "\n",
    "from sklearn.metrics import plot_precision_recall_curve\n",
    "from sklearn.metrics import plot_roc_curve\n",
    "from sklearn.metrics import confusion_matrix"
   ]
  },
  {
   "cell_type": "markdown",
   "id": "53f8f094",
   "metadata": {},
   "source": [
    "### Machine Learning Model"
   ]
  },
  {
   "cell_type": "markdown",
   "id": "611da233",
   "metadata": {},
   "source": [
    "#### 1. Logistic Regression Model\n",
    "#### 2. XGBoost Model\n",
    "#### 3. KNN Model\n",
    "#### 4. RandomForest Model\n",
    "#### 5. SVM"
   ]
  },
  {
   "cell_type": "markdown",
   "id": "4fc4e8d2",
   "metadata": {},
   "source": [
    "### <span style = \"color:chocolate\"> 예측 모델 설명 </span>\n",
    "\n",
    "#### <span style = \"color:brown\"> 1. Logistic Regression </span>\n",
    "#### - 회귀를 사용하여 데이터가 어떤 범주에 속할 확률을 0에서 1사이의 값으로 예측하고,\n",
    "#### - 그 확률에 따라 가능성이 더 높은 범주에 속하는 것으로 분류해주는 지도 학습 알고리즘\n",
    "#### <span style = \"color:brown\"> 2. XGBoost </span>\n",
    "#### - Extreme Gradient Boosting의 약자\n",
    "#### - 여러 개의 약한 의사결정나무를 조합해서 사용하는 앙상블 기법 중 하나\n",
    "#### <span style = \"color:brown\"> 3. KNN </span>\n",
    "#### - 데이터를 가장 가까운 속성에 따라 분류하여 레이블링 하는 알고리즘\n",
    "#### - K개의 가장 가까운 이웃의 속성에 따라 분류\n",
    "#### <span style = \"color:brown\"> 4. Random Forest </span>\n",
    "#### - 여러 개의 작은 결정 트리를 만들고 해당 트리가 예측한 값들 중 가장 많은 값 혹은 평균값을 최종 예측값으로 정함\n",
    "#### - 즉, 다수결의 원칙을 따름 (의견을 통합하거나 여러 가지 결과를 합치는 방식인 앙상블 학습 방법)\n",
    "#### <span style = \"color:brown\"> 5. SVM </span>\n",
    "#### - 분류를 위한 기준 선(Decision Boundary)을 정의하는 모델\n",
    "#### - 분류되지 않은 새로운 점이 나타나면 경계의 어느 쪽에 속하는지 확인해서 분류 과제 수행\n"
   ]
  },
  {
   "cell_type": "markdown",
   "id": "f746c99a",
   "metadata": {},
   "source": [
    "### Logistic Regression Model"
   ]
  },
  {
   "cell_type": "code",
   "execution_count": 49,
   "id": "f8f9f3c8",
   "metadata": {},
   "outputs": [
    {
     "name": "stdout",
     "output_type": "stream",
     "text": [
      "              precision    recall  f1-score   support\n",
      "\n",
      "           0       0.87      0.85      0.86      1453\n",
      "           1       0.85      0.87      0.86      1463\n",
      "\n",
      "    accuracy                           0.86      2916\n",
      "   macro avg       0.86      0.86      0.86      2916\n",
      "weighted avg       0.86      0.86      0.86      2916\n",
      "\n"
     ]
    }
   ],
   "source": [
    "model_lr = LogisticRegression(max_iter=1000)\n",
    "model_lr.fit(X_train, y_train)\n",
    "pred = model_lr.predict(X_test)\n",
    "\n",
    "lr_acc = accuracy_score(y_test,pred)\n",
    "\n",
    "print(classification_report(y_test, pred))"
   ]
  },
  {
   "cell_type": "markdown",
   "id": "43adbc2b",
   "metadata": {},
   "source": [
    "### XGBoost Model"
   ]
  },
  {
   "cell_type": "code",
   "execution_count": 50,
   "id": "bd557eb5",
   "metadata": {},
   "outputs": [
    {
     "name": "stdout",
     "output_type": "stream",
     "text": [
      "              precision    recall  f1-score   support\n",
      "\n",
      "           0       0.96      0.91      0.93      1453\n",
      "           1       0.91      0.96      0.94      1463\n",
      "\n",
      "    accuracy                           0.93      2916\n",
      "   macro avg       0.94      0.93      0.93      2916\n",
      "weighted avg       0.94      0.93      0.93      2916\n",
      "\n"
     ]
    }
   ],
   "source": [
    "model_xgb = XGBClassifier()\n",
    "model_xgb.fit(X_train, y_train)\n",
    "pred = model_xgb.predict(X_test)\n",
    "\n",
    "xgb_acc = accuracy_score(y_test,pred)\n",
    "\n",
    "print(classification_report(y_test, pred))"
   ]
  },
  {
   "cell_type": "markdown",
   "id": "436f6615",
   "metadata": {},
   "source": [
    "### KNN Model"
   ]
  },
  {
   "cell_type": "code",
   "execution_count": 51,
   "id": "dc23bb81",
   "metadata": {},
   "outputs": [
    {
     "name": "stdout",
     "output_type": "stream",
     "text": [
      "              precision    recall  f1-score   support\n",
      "\n",
      "           0       0.92      0.84      0.88      1453\n",
      "           1       0.85      0.93      0.89      1463\n",
      "\n",
      "    accuracy                           0.89      2916\n",
      "   macro avg       0.89      0.88      0.88      2916\n",
      "weighted avg       0.89      0.89      0.88      2916\n",
      "\n"
     ]
    }
   ],
   "source": [
    "model_knn = KNeighborsClassifier(n_neighbors=8)\n",
    "model_knn.fit(X_train, y_train)\n",
    "pred = model_knn.predict(X_test)\n",
    "\n",
    "knn_acc = accuracy_score(y_test,pred)\n",
    "\n",
    "print(classification_report(y_test, pred))"
   ]
  },
  {
   "cell_type": "markdown",
   "id": "5950d524",
   "metadata": {},
   "source": [
    "### RandomForest Model"
   ]
  },
  {
   "cell_type": "code",
   "execution_count": 52,
   "id": "0e8e57b8",
   "metadata": {},
   "outputs": [
    {
     "name": "stdout",
     "output_type": "stream",
     "text": [
      "              precision    recall  f1-score   support\n",
      "\n",
      "           0       0.96      0.92      0.94      1453\n",
      "           1       0.92      0.96      0.94      1463\n",
      "\n",
      "    accuracy                           0.94      2916\n",
      "   macro avg       0.94      0.94      0.94      2916\n",
      "weighted avg       0.94      0.94      0.94      2916\n",
      "\n"
     ]
    }
   ],
   "source": [
    "model_forest = RandomForestClassifier(random_state=5)\n",
    "model_forest.fit(X_train, y_train)\n",
    "pred = model_forest.predict(X_test)\n",
    "\n",
    "rf_acc = accuracy_score(y_test,pred)\n",
    "\n",
    "print(classification_report(y_test, pred))"
   ]
  },
  {
   "cell_type": "markdown",
   "id": "66f8a3d5",
   "metadata": {},
   "source": [
    "### SVM"
   ]
  },
  {
   "cell_type": "code",
   "execution_count": 53,
   "id": "005b83a9",
   "metadata": {},
   "outputs": [
    {
     "name": "stdout",
     "output_type": "stream",
     "text": [
      "              precision    recall  f1-score   support\n",
      "\n",
      "           0       0.91      0.85      0.88      1453\n",
      "           1       0.86      0.92      0.89      1463\n",
      "\n",
      "    accuracy                           0.88      2916\n",
      "   macro avg       0.88      0.88      0.88      2916\n",
      "weighted avg       0.88      0.88      0.88      2916\n",
      "\n"
     ]
    }
   ],
   "source": [
    "model_svm = SVC(C=10, max_iter=1000, probability=True, random_state=5)\n",
    "model_svm.fit(X_train, y_train)\n",
    "pred = model_svm.predict(X_test)\n",
    "\n",
    "svm_acc = accuracy_score(y_test,pred)\n",
    "\n",
    "print(classification_report(y_test, pred))"
   ]
  },
  {
   "cell_type": "markdown",
   "id": "b743e081",
   "metadata": {},
   "source": [
    "## <span style =\"color:blue\"> 5. Conclusion </span>"
   ]
  },
  {
   "cell_type": "markdown",
   "id": "66ac3b33",
   "metadata": {},
   "source": [
    "### Model Accuracy"
   ]
  },
  {
   "cell_type": "code",
   "execution_count": 54,
   "id": "145ef42a",
   "metadata": {},
   "outputs": [
    {
     "data": {
      "text/html": [
       "<div>\n",
       "<style scoped>\n",
       "    .dataframe tbody tr th:only-of-type {\n",
       "        vertical-align: middle;\n",
       "    }\n",
       "\n",
       "    .dataframe tbody tr th {\n",
       "        vertical-align: top;\n",
       "    }\n",
       "\n",
       "    .dataframe thead th {\n",
       "        text-align: right;\n",
       "    }\n",
       "</style>\n",
       "<table border=\"1\" class=\"dataframe\">\n",
       "  <thead>\n",
       "    <tr style=\"text-align: right;\">\n",
       "      <th></th>\n",
       "      <th>Acc</th>\n",
       "    </tr>\n",
       "    <tr>\n",
       "      <th>Model</th>\n",
       "      <th></th>\n",
       "    </tr>\n",
       "  </thead>\n",
       "  <tbody>\n",
       "    <tr>\n",
       "      <th>Logistic Regression</th>\n",
       "      <td>85.973937</td>\n",
       "    </tr>\n",
       "    <tr>\n",
       "      <th>XGBoost</th>\n",
       "      <td>93.484225</td>\n",
       "    </tr>\n",
       "    <tr>\n",
       "      <th>Random Forest</th>\n",
       "      <td>94.067215</td>\n",
       "    </tr>\n",
       "    <tr>\n",
       "      <th>KNN</th>\n",
       "      <td>88.511660</td>\n",
       "    </tr>\n",
       "    <tr>\n",
       "      <th>SVM</th>\n",
       "      <td>88.100137</td>\n",
       "    </tr>\n",
       "  </tbody>\n",
       "</table>\n",
       "</div>"
      ],
      "text/plain": [
       "                           Acc\n",
       "Model                         \n",
       "Logistic Regression  85.973937\n",
       "XGBoost              93.484225\n",
       "Random Forest        94.067215\n",
       "KNN                  88.511660\n",
       "SVM                  88.100137"
      ]
     },
     "execution_count": 54,
     "metadata": {},
     "output_type": "execute_result"
    }
   ],
   "source": [
    "model_name = ['Logistic Regression', 'XGBoost', 'Random Forest', 'KNN', 'SVM']\n",
    "model_accuracy = [lr_acc * 100,xgb_acc * 100 , rf_acc * 100, knn_acc * 100, svm_acc * 100 ]\n",
    "\n",
    "model_acc = pd.DataFrame({'Model':model_name, 'Acc':model_accuracy})\n",
    "model_acc = model_acc.set_index('Model')\n",
    "model_acc"
   ]
  },
  {
   "cell_type": "code",
   "execution_count": 55,
   "id": "ec0706b0",
   "metadata": {},
   "outputs": [
    {
     "data": {
      "text/html": [
       "<div>\n",
       "<style scoped>\n",
       "    .dataframe tbody tr th:only-of-type {\n",
       "        vertical-align: middle;\n",
       "    }\n",
       "\n",
       "    .dataframe tbody tr th {\n",
       "        vertical-align: top;\n",
       "    }\n",
       "\n",
       "    .dataframe thead th {\n",
       "        text-align: right;\n",
       "    }\n",
       "</style>\n",
       "<table border=\"1\" class=\"dataframe\">\n",
       "  <thead>\n",
       "    <tr style=\"text-align: right;\">\n",
       "      <th></th>\n",
       "      <th>Acc</th>\n",
       "    </tr>\n",
       "    <tr>\n",
       "      <th>Model</th>\n",
       "      <th></th>\n",
       "    </tr>\n",
       "  </thead>\n",
       "  <tbody>\n",
       "    <tr>\n",
       "      <th>Random Forest</th>\n",
       "      <td>94.067215</td>\n",
       "    </tr>\n",
       "    <tr>\n",
       "      <th>XGBoost</th>\n",
       "      <td>93.484225</td>\n",
       "    </tr>\n",
       "    <tr>\n",
       "      <th>KNN</th>\n",
       "      <td>88.511660</td>\n",
       "    </tr>\n",
       "    <tr>\n",
       "      <th>SVM</th>\n",
       "      <td>88.100137</td>\n",
       "    </tr>\n",
       "    <tr>\n",
       "      <th>Logistic Regression</th>\n",
       "      <td>85.973937</td>\n",
       "    </tr>\n",
       "  </tbody>\n",
       "</table>\n",
       "</div>"
      ],
      "text/plain": [
       "                           Acc\n",
       "Model                         \n",
       "Random Forest        94.067215\n",
       "XGBoost              93.484225\n",
       "KNN                  88.511660\n",
       "SVM                  88.100137\n",
       "Logistic Regression  85.973937"
      ]
     },
     "execution_count": 55,
     "metadata": {},
     "output_type": "execute_result"
    }
   ],
   "source": [
    "model_acc = model_acc.sort_values(by='Acc', ascending=False)\n",
    "model_acc"
   ]
  },
  {
   "cell_type": "code",
   "execution_count": 56,
   "id": "0c43efba",
   "metadata": {},
   "outputs": [
    {
     "data": {
      "image/png": "[encoded data removed]",
      "text/plain": [
       "<Figure size 720x360 with 1 Axes>"
      ]
     },
     "metadata": {},
     "output_type": "display_data"
    }
   ],
   "source": [
    "plt.rcParams['figure.figsize']=(10,5)\n",
    "\n",
    "plt.suptitle(\"ML Model Accuracy\", fontsize = 20, fontweight = 'bold', color='gray')\n",
    "\n",
    "bars = sns.barplot(x=model_acc.index, y='Acc', data=model_acc, palette = 'Set2')\n",
    "\n",
    "plt.savefig(\"ML_Model_Accuracy.png\")"
   ]
  },
  {
   "cell_type": "markdown",
   "id": "3c459472",
   "metadata": {},
   "source": [
    "### Precision-Recall Curve"
   ]
  },
  {
   "cell_type": "code",
   "execution_count": 57,
   "id": "bdcaf2f5",
   "metadata": {},
   "outputs": [
    {
     "data": {
      "image/png": "[encoded data removed]",
      "text/plain": [
       "<Figure size 720x360 with 1 Axes>"
      ]
     },
     "metadata": {},
     "output_type": "display_data"
    }
   ],
   "source": [
    "fig = plt.figure()\n",
    "ax = fig.gca()\n",
    "\n",
    "plot_precision_recall_curve(model_lr, X_test, y_test, ax=ax)\n",
    "plot_precision_recall_curve(model_xgb, X_test, y_test, ax=ax)\n",
    "plot_precision_recall_curve(model_forest, X_test, y_test, ax=ax)\n",
    "plot_precision_recall_curve(model_knn, X_test, y_test, ax=ax)\n",
    "plot_precision_recall_curve(model_svm, X_test, y_test, ax=ax)\n",
    "\n",
    "plt.savefig(\"Precision_Recall_Curve.png\")"
   ]
  },
  {
   "cell_type": "markdown",
   "id": "8b1f5435",
   "metadata": {},
   "source": [
    "### ROC Curve"
   ]
  },
  {
   "cell_type": "code",
   "execution_count": 58,
   "id": "ef0583e6",
   "metadata": {},
   "outputs": [
    {
     "data": {
      "image/png": "[encoded data removed]",
      "text/plain": [
       "<Figure size 720x360 with 1 Axes>"
      ]
     },
     "metadata": {},
     "output_type": "display_data"
    }
   ],
   "source": [
    "fig = plt.figure()\n",
    "ax = fig.gca()\n",
    "\n",
    "plot_roc_curve(model_lr, X_test, y_test, ax=ax)\n",
    "plot_roc_curve(model_xgb, X_test, y_test, ax=ax)\n",
    "plot_roc_curve(model_forest, X_test, y_test, ax=ax)\n",
    "plot_roc_curve(model_knn, X_test, y_test, ax=ax)\n",
    "plot_roc_curve(model_svm, X_test, y_test, ax=ax)\n",
    "\n",
    "plt.savefig(\"ROC_Curve.png\")"
   ]
  }
 ],
 "metadata": {
  "kernelspec": {
   "display_name": "Python 3",
   "language": "python",
   "name": "python3"
  },
  "language_info": {
   "codemirror_mode": {
    "name": "ipython",
    "version": 3
   },
   "file_extension": ".py",
   "mimetype": "text/x-python",
   "name": "python",
   "nbconvert_exporter": "python",
   "pygments_lexer": "ipython3",
   "version": "3.8.8"
  }
 },
 "nbformat": 4,
 "nbformat_minor": 5
}
